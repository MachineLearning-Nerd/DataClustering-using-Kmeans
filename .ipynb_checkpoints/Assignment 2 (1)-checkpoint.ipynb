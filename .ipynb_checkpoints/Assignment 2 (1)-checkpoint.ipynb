{
 "cells": [
  {
   "cell_type": "code",
   "execution_count": 134,
   "metadata": {},
   "outputs": [],
   "source": [
    "import pandas as pd"
   ]
  },
  {
   "cell_type": "code",
   "execution_count": 135,
   "metadata": {},
   "outputs": [
    {
     "data": {
      "text/html": [
       "<div>\n",
       "<style scoped>\n",
       "    .dataframe tbody tr th:only-of-type {\n",
       "        vertical-align: middle;\n",
       "    }\n",
       "\n",
       "    .dataframe tbody tr th {\n",
       "        vertical-align: top;\n",
       "    }\n",
       "\n",
       "    .dataframe thead th {\n",
       "        text-align: right;\n",
       "    }\n",
       "</style>\n",
       "<table border=\"1\" class=\"dataframe\">\n",
       "  <thead>\n",
       "    <tr style=\"text-align: right;\">\n",
       "      <th></th>\n",
       "      <th>Timestamp</th>\n",
       "      <th>YYYYMMDD</th>\n",
       "      <th>HHMMSS</th>\n",
       "      <th>PREC</th>\n",
       "      <th>AIRT</th>\n",
       "      <th>SST</th>\n",
       "      <th>RH</th>\n",
       "      <th>Q</th>\n",
       "    </tr>\n",
       "  </thead>\n",
       "  <tbody>\n",
       "    <tr>\n",
       "      <td>0</td>\n",
       "      <td>0</td>\n",
       "      <td>20060101</td>\n",
       "      <td>0</td>\n",
       "      <td>-0.17</td>\n",
       "      <td>28.75</td>\n",
       "      <td>29.690</td>\n",
       "      <td>79.8</td>\n",
       "      <td>HighQ</td>\n",
       "    </tr>\n",
       "    <tr>\n",
       "      <td>1</td>\n",
       "      <td>1</td>\n",
       "      <td>20060101</td>\n",
       "      <td>1000</td>\n",
       "      <td>0.00</td>\n",
       "      <td>28.86</td>\n",
       "      <td>29.708</td>\n",
       "      <td>79.2</td>\n",
       "      <td>HighQ</td>\n",
       "    </tr>\n",
       "    <tr>\n",
       "      <td>2</td>\n",
       "      <td>2</td>\n",
       "      <td>20060101</td>\n",
       "      <td>2000</td>\n",
       "      <td>-0.02</td>\n",
       "      <td>28.91</td>\n",
       "      <td>29.749</td>\n",
       "      <td>79.4</td>\n",
       "      <td>HighQ</td>\n",
       "    </tr>\n",
       "    <tr>\n",
       "      <td>3</td>\n",
       "      <td>3</td>\n",
       "      <td>20060101</td>\n",
       "      <td>3000</td>\n",
       "      <td>-0.01</td>\n",
       "      <td>28.85</td>\n",
       "      <td>29.757</td>\n",
       "      <td>78.4</td>\n",
       "      <td>HighQ</td>\n",
       "    </tr>\n",
       "    <tr>\n",
       "      <td>4</td>\n",
       "      <td>4</td>\n",
       "      <td>20060101</td>\n",
       "      <td>4000</td>\n",
       "      <td>-0.02</td>\n",
       "      <td>28.87</td>\n",
       "      <td>29.787</td>\n",
       "      <td>77.8</td>\n",
       "      <td>HighQ</td>\n",
       "    </tr>\n",
       "  </tbody>\n",
       "</table>\n",
       "</div>"
      ],
      "text/plain": [
       "   Timestamp  YYYYMMDD  HHMMSS  PREC   AIRT     SST    RH      Q\n",
       "0          0  20060101       0 -0.17  28.75  29.690  79.8  HighQ\n",
       "1          1  20060101    1000  0.00  28.86  29.708  79.2  HighQ\n",
       "2          2  20060101    2000 -0.02  28.91  29.749  79.4  HighQ\n",
       "3          3  20060101    3000 -0.01  28.85  29.757  78.4  HighQ\n",
       "4          4  20060101    4000 -0.02  28.87  29.787  77.8  HighQ"
      ]
     },
     "execution_count": 135,
     "metadata": {},
     "output_type": "execute_result"
    }
   ],
   "source": [
    "trop_atmos = pd.read_csv('TAO_2006.csv')\n",
    "trop_atmos.head()"
   ]
  },
  {
   "cell_type": "markdown",
   "metadata": {},
   "source": [
    "# A1- Dataset Size"
   ]
  },
  {
   "cell_type": "code",
   "execution_count": 136,
   "metadata": {},
   "outputs": [
    {
     "name": "stdout",
     "output_type": "stream",
     "text": [
      "The total number of rows and columns are (35136, 8)\n"
     ]
    }
   ],
   "source": [
    "A1= trop_atmos.shape\n",
    "print('The total number of rows and columns are ' + str(A1))"
   ]
  },
  {
   "cell_type": "markdown",
   "metadata": {},
   "source": [
    "# A2- Max/Min values in each column"
   ]
  },
  {
   "cell_type": "code",
   "execution_count": 137,
   "metadata": {},
   "outputs": [
    {
     "name": "stdout",
     "output_type": "stream",
     "text": [
      "The maximum value of Precipitation is 75.77\n"
     ]
    }
   ],
   "source": [
    "A2a = trop_atmos['PREC'].max()\n",
    "print('The maximum value of Precipitation is ' + str(A2a))"
   ]
  },
  {
   "cell_type": "code",
   "execution_count": 138,
   "metadata": {},
   "outputs": [
    {
     "name": "stdout",
     "output_type": "stream",
     "text": [
      "The minimum value of Precipitation is -9.99\n"
     ]
    }
   ],
   "source": [
    "A2b = trop_atmos['PREC'].min()\n",
    "print('The minimum value of Precipitation is ' + str(A2b))"
   ]
  },
  {
   "cell_type": "code",
   "execution_count": 139,
   "metadata": {},
   "outputs": [
    {
     "name": "stdout",
     "output_type": "stream",
     "text": [
      "The maximum value of Air Temperature is 31.57\n"
     ]
    }
   ],
   "source": [
    "A2c = trop_atmos['AIRT'].max()\n",
    "print('The maximum value of Air Temperature is ' + str(A2c))"
   ]
  },
  {
   "cell_type": "code",
   "execution_count": 140,
   "metadata": {},
   "outputs": [
    {
     "name": "stdout",
     "output_type": "stream",
     "text": [
      "The minimum value of Air Temperature is -99.9\n"
     ]
    }
   ],
   "source": [
    "A2d = trop_atmos['AIRT'].min()\n",
    "print('The minimum value of Air Temperature is ' + str(A2d))"
   ]
  },
  {
   "cell_type": "code",
   "execution_count": 141,
   "metadata": {},
   "outputs": [
    {
     "name": "stdout",
     "output_type": "stream",
     "text": [
      "The maximum value of Sea Surface Temperature is 31.346\n"
     ]
    }
   ],
   "source": [
    "A2e = trop_atmos['SST'].max()\n",
    "print('The maximum value of Sea Surface Temperature is ' + str(A2e))"
   ]
  },
  {
   "cell_type": "code",
   "execution_count": 142,
   "metadata": {},
   "outputs": [
    {
     "name": "stdout",
     "output_type": "stream",
     "text": [
      "The minimum value of Sea Surface Temperature is -99.9\n"
     ]
    }
   ],
   "source": [
    "A2f = trop_atmos['SST'].min()\n",
    "print('The minimum value of Sea Surface Temperature is ' + str(A2f))"
   ]
  },
  {
   "cell_type": "code",
   "execution_count": 143,
   "metadata": {},
   "outputs": [
    {
     "name": "stdout",
     "output_type": "stream",
     "text": [
      "The maximum value of Relative Humidity is 98.1\n"
     ]
    }
   ],
   "source": [
    "A2g = trop_atmos['RH'].max()\n",
    "print('The maximum value of Relative Humidity is ' + str(A2g))"
   ]
  },
  {
   "cell_type": "code",
   "execution_count": 144,
   "metadata": {},
   "outputs": [
    {
     "name": "stdout",
     "output_type": "stream",
     "text": [
      "The minimum value of Relative Humidity is -99.9\n"
     ]
    }
   ],
   "source": [
    "A2h = trop_atmos['RH'].min()\n",
    "print('The minimum value of Relative Humidity is ' + str(A2h))"
   ]
  },
  {
   "cell_type": "markdown",
   "metadata": {},
   "source": [
    "# A3- Number of records in each month"
   ]
  },
  {
   "cell_type": "code",
   "execution_count": 145,
   "metadata": {},
   "outputs": [
    {
     "data": {
      "text/html": [
       "<div>\n",
       "<style scoped>\n",
       "    .dataframe tbody tr th:only-of-type {\n",
       "        vertical-align: middle;\n",
       "    }\n",
       "\n",
       "    .dataframe tbody tr th {\n",
       "        vertical-align: top;\n",
       "    }\n",
       "\n",
       "    .dataframe thead th {\n",
       "        text-align: right;\n",
       "    }\n",
       "</style>\n",
       "<table border=\"1\" class=\"dataframe\">\n",
       "  <thead>\n",
       "    <tr style=\"text-align: right;\">\n",
       "      <th></th>\n",
       "      <th>Timestamp</th>\n",
       "      <th>YYYYMMDD</th>\n",
       "      <th>HHMMSS</th>\n",
       "      <th>PREC</th>\n",
       "      <th>AIRT</th>\n",
       "      <th>SST</th>\n",
       "      <th>RH</th>\n",
       "      <th>Q</th>\n",
       "    </tr>\n",
       "  </thead>\n",
       "  <tbody>\n",
       "    <tr>\n",
       "      <td>0</td>\n",
       "      <td>0</td>\n",
       "      <td>2006-01-01</td>\n",
       "      <td>0</td>\n",
       "      <td>-0.17</td>\n",
       "      <td>28.75</td>\n",
       "      <td>29.690</td>\n",
       "      <td>79.8</td>\n",
       "      <td>HighQ</td>\n",
       "    </tr>\n",
       "    <tr>\n",
       "      <td>1</td>\n",
       "      <td>1</td>\n",
       "      <td>2006-01-01</td>\n",
       "      <td>1000</td>\n",
       "      <td>0.00</td>\n",
       "      <td>28.86</td>\n",
       "      <td>29.708</td>\n",
       "      <td>79.2</td>\n",
       "      <td>HighQ</td>\n",
       "    </tr>\n",
       "    <tr>\n",
       "      <td>2</td>\n",
       "      <td>2</td>\n",
       "      <td>2006-01-01</td>\n",
       "      <td>2000</td>\n",
       "      <td>-0.02</td>\n",
       "      <td>28.91</td>\n",
       "      <td>29.749</td>\n",
       "      <td>79.4</td>\n",
       "      <td>HighQ</td>\n",
       "    </tr>\n",
       "    <tr>\n",
       "      <td>3</td>\n",
       "      <td>3</td>\n",
       "      <td>2006-01-01</td>\n",
       "      <td>3000</td>\n",
       "      <td>-0.01</td>\n",
       "      <td>28.85</td>\n",
       "      <td>29.757</td>\n",
       "      <td>78.4</td>\n",
       "      <td>HighQ</td>\n",
       "    </tr>\n",
       "    <tr>\n",
       "      <td>4</td>\n",
       "      <td>4</td>\n",
       "      <td>2006-01-01</td>\n",
       "      <td>4000</td>\n",
       "      <td>-0.02</td>\n",
       "      <td>28.87</td>\n",
       "      <td>29.787</td>\n",
       "      <td>77.8</td>\n",
       "      <td>HighQ</td>\n",
       "    </tr>\n",
       "  </tbody>\n",
       "</table>\n",
       "</div>"
      ],
      "text/plain": [
       "   Timestamp   YYYYMMDD  HHMMSS  PREC   AIRT     SST    RH      Q\n",
       "0          0 2006-01-01       0 -0.17  28.75  29.690  79.8  HighQ\n",
       "1          1 2006-01-01    1000  0.00  28.86  29.708  79.2  HighQ\n",
       "2          2 2006-01-01    2000 -0.02  28.91  29.749  79.4  HighQ\n",
       "3          3 2006-01-01    3000 -0.01  28.85  29.757  78.4  HighQ\n",
       "4          4 2006-01-01    4000 -0.02  28.87  29.787  77.8  HighQ"
      ]
     },
     "execution_count": 145,
     "metadata": {},
     "output_type": "execute_result"
    }
   ],
   "source": [
    "trop_atmos['YYYYMMDD'] = pd.to_datetime(trop_atmos['YYYYMMDD'].astype(str), format = '%Y%m%d')\n",
    "trop_atmos.head()"
   ]
  },
  {
   "cell_type": "code",
   "execution_count": 146,
   "metadata": {},
   "outputs": [
    {
     "data": {
      "text/html": [
       "<div>\n",
       "<style scoped>\n",
       "    .dataframe tbody tr th:only-of-type {\n",
       "        vertical-align: middle;\n",
       "    }\n",
       "\n",
       "    .dataframe tbody tr th {\n",
       "        vertical-align: top;\n",
       "    }\n",
       "\n",
       "    .dataframe thead th {\n",
       "        text-align: right;\n",
       "    }\n",
       "</style>\n",
       "<table border=\"1\" class=\"dataframe\">\n",
       "  <thead>\n",
       "    <tr style=\"text-align: right;\">\n",
       "      <th></th>\n",
       "      <th>Timestamp</th>\n",
       "      <th>YYYYMMDD</th>\n",
       "      <th>HHMMSS</th>\n",
       "      <th>PREC</th>\n",
       "      <th>AIRT</th>\n",
       "      <th>SST</th>\n",
       "      <th>RH</th>\n",
       "      <th>Q</th>\n",
       "      <th>Month</th>\n",
       "    </tr>\n",
       "  </thead>\n",
       "  <tbody>\n",
       "    <tr>\n",
       "      <td>0</td>\n",
       "      <td>0</td>\n",
       "      <td>2006-01-01</td>\n",
       "      <td>0</td>\n",
       "      <td>-0.17</td>\n",
       "      <td>28.75</td>\n",
       "      <td>29.690</td>\n",
       "      <td>79.8</td>\n",
       "      <td>HighQ</td>\n",
       "      <td>1</td>\n",
       "    </tr>\n",
       "    <tr>\n",
       "      <td>1</td>\n",
       "      <td>1</td>\n",
       "      <td>2006-01-01</td>\n",
       "      <td>1000</td>\n",
       "      <td>0.00</td>\n",
       "      <td>28.86</td>\n",
       "      <td>29.708</td>\n",
       "      <td>79.2</td>\n",
       "      <td>HighQ</td>\n",
       "      <td>1</td>\n",
       "    </tr>\n",
       "    <tr>\n",
       "      <td>2</td>\n",
       "      <td>2</td>\n",
       "      <td>2006-01-01</td>\n",
       "      <td>2000</td>\n",
       "      <td>-0.02</td>\n",
       "      <td>28.91</td>\n",
       "      <td>29.749</td>\n",
       "      <td>79.4</td>\n",
       "      <td>HighQ</td>\n",
       "      <td>1</td>\n",
       "    </tr>\n",
       "    <tr>\n",
       "      <td>3</td>\n",
       "      <td>3</td>\n",
       "      <td>2006-01-01</td>\n",
       "      <td>3000</td>\n",
       "      <td>-0.01</td>\n",
       "      <td>28.85</td>\n",
       "      <td>29.757</td>\n",
       "      <td>78.4</td>\n",
       "      <td>HighQ</td>\n",
       "      <td>1</td>\n",
       "    </tr>\n",
       "    <tr>\n",
       "      <td>4</td>\n",
       "      <td>4</td>\n",
       "      <td>2006-01-01</td>\n",
       "      <td>4000</td>\n",
       "      <td>-0.02</td>\n",
       "      <td>28.87</td>\n",
       "      <td>29.787</td>\n",
       "      <td>77.8</td>\n",
       "      <td>HighQ</td>\n",
       "      <td>1</td>\n",
       "    </tr>\n",
       "  </tbody>\n",
       "</table>\n",
       "</div>"
      ],
      "text/plain": [
       "   Timestamp   YYYYMMDD  HHMMSS  PREC   AIRT     SST    RH      Q  Month\n",
       "0          0 2006-01-01       0 -0.17  28.75  29.690  79.8  HighQ      1\n",
       "1          1 2006-01-01    1000  0.00  28.86  29.708  79.2  HighQ      1\n",
       "2          2 2006-01-01    2000 -0.02  28.91  29.749  79.4  HighQ      1\n",
       "3          3 2006-01-01    3000 -0.01  28.85  29.757  78.4  HighQ      1\n",
       "4          4 2006-01-01    4000 -0.02  28.87  29.787  77.8  HighQ      1"
      ]
     },
     "execution_count": 146,
     "metadata": {},
     "output_type": "execute_result"
    }
   ],
   "source": [
    "trop_atmos['Month']=trop_atmos['YYYYMMDD'].dt.month\n",
    "trop_atmos.head()"
   ]
  },
  {
   "cell_type": "code",
   "execution_count": 147,
   "metadata": {},
   "outputs": [
    {
     "data": {
      "text/plain": [
       "8    4464\n",
       "7    4464\n",
       "5    4464\n",
       "3    4464\n",
       "1    4464\n",
       "6    4320\n",
       "4    4320\n",
       "2    4032\n",
       "9     144\n",
       "Name: Month, dtype: int64"
      ]
     },
     "execution_count": 147,
     "metadata": {},
     "output_type": "execute_result"
    }
   ],
   "source": [
    "trop_atmos['Month'].value_counts()"
   ]
  },
  {
   "cell_type": "markdown",
   "metadata": {},
   "source": [
    "# A4-Missing Values"
   ]
  },
  {
   "cell_type": "code",
   "execution_count": 148,
   "metadata": {},
   "outputs": [
    {
     "data": {
      "text/plain": [
       "Timestamp    401\n",
       "YYYYMMDD     401\n",
       "HHMMSS       401\n",
       "PREC         401\n",
       "AIRT         401\n",
       "SST          401\n",
       "RH           401\n",
       "Q            401\n",
       "Month        401\n",
       "dtype: int64"
      ]
     },
     "execution_count": 148,
     "metadata": {},
     "output_type": "execute_result"
    }
   ],
   "source": [
    "column= ['PREC','SST', 'AIRT', 'RH']\n",
    "cond1= trop_atmos['PREC']== -9.99\n",
    "cond2= trop_atmos['SST']== -99.9\n",
    "cond3= trop_atmos['AIRT']==-99.9\n",
    "cond4= trop_atmos['RH']== -99.9\n",
    "cond= cond1|cond2|cond3|cond4\n",
    "trop_atmos[cond].count()"
   ]
  },
  {
   "cell_type": "code",
   "execution_count": 149,
   "metadata": {
    "scrolled": true
   },
   "outputs": [
    {
     "data": {
      "text/plain": [
       "5    4464\n",
       "1    4461\n",
       "3    4458\n",
       "8    4323\n",
       "4    4317\n",
       "6    4315\n",
       "7    4221\n",
       "2    4032\n",
       "9     144\n",
       "Name: Month, dtype: int64"
      ]
     },
     "execution_count": 149,
     "metadata": {},
     "output_type": "execute_result"
    }
   ],
   "source": [
    "Set = trop_atmos[~cond]\n",
    "Set['Month'].value_counts()"
   ]
  },
  {
   "cell_type": "code",
   "execution_count": 150,
   "metadata": {},
   "outputs": [
    {
     "data": {
      "text/plain": [
       "7    243\n",
       "8    141\n",
       "3      6\n",
       "6      5\n",
       "4      3\n",
       "1      3\n",
       "Name: Month, dtype: int64"
      ]
     },
     "execution_count": 150,
     "metadata": {},
     "output_type": "execute_result"
    }
   ],
   "source": [
    "Set = trop_atmos[cond]\n",
    "Set['Month'].value_counts()"
   ]
  },
  {
   "cell_type": "code",
   "execution_count": 151,
   "metadata": {},
   "outputs": [
    {
     "data": {
      "text/plain": [
       "(34735, 9)"
      ]
     },
     "execution_count": 151,
     "metadata": {},
     "output_type": "execute_result"
    }
   ],
   "source": [
    "D= set(trop_atmos.index).intersection(Set.index)\n",
    "trop_atmos= trop_atmos.drop(D, axis=0)\n",
    "trop_atmos.shape"
   ]
  },
  {
   "cell_type": "code",
   "execution_count": 152,
   "metadata": {},
   "outputs": [
    {
     "data": {
      "text/html": [
       "<div>\n",
       "<style scoped>\n",
       "    .dataframe tbody tr th:only-of-type {\n",
       "        vertical-align: middle;\n",
       "    }\n",
       "\n",
       "    .dataframe tbody tr th {\n",
       "        vertical-align: top;\n",
       "    }\n",
       "\n",
       "    .dataframe thead th {\n",
       "        text-align: right;\n",
       "    }\n",
       "</style>\n",
       "<table border=\"1\" class=\"dataframe\">\n",
       "  <thead>\n",
       "    <tr style=\"text-align: right;\">\n",
       "      <th></th>\n",
       "      <th>Timestamp</th>\n",
       "      <th>YYYYMMDD</th>\n",
       "      <th>HHMMSS</th>\n",
       "      <th>PREC</th>\n",
       "      <th>AIRT</th>\n",
       "      <th>SST</th>\n",
       "      <th>RH</th>\n",
       "      <th>Q</th>\n",
       "      <th>Month</th>\n",
       "    </tr>\n",
       "  </thead>\n",
       "  <tbody>\n",
       "    <tr>\n",
       "      <td>0</td>\n",
       "      <td>0</td>\n",
       "      <td>2006-01-01</td>\n",
       "      <td>0</td>\n",
       "      <td>-0.17</td>\n",
       "      <td>28.75</td>\n",
       "      <td>29.690</td>\n",
       "      <td>79.8</td>\n",
       "      <td>HighQ</td>\n",
       "      <td>1</td>\n",
       "    </tr>\n",
       "    <tr>\n",
       "      <td>1</td>\n",
       "      <td>1</td>\n",
       "      <td>2006-01-01</td>\n",
       "      <td>1000</td>\n",
       "      <td>0.00</td>\n",
       "      <td>28.86</td>\n",
       "      <td>29.708</td>\n",
       "      <td>79.2</td>\n",
       "      <td>HighQ</td>\n",
       "      <td>1</td>\n",
       "    </tr>\n",
       "    <tr>\n",
       "      <td>2</td>\n",
       "      <td>2</td>\n",
       "      <td>2006-01-01</td>\n",
       "      <td>2000</td>\n",
       "      <td>-0.02</td>\n",
       "      <td>28.91</td>\n",
       "      <td>29.749</td>\n",
       "      <td>79.4</td>\n",
       "      <td>HighQ</td>\n",
       "      <td>1</td>\n",
       "    </tr>\n",
       "    <tr>\n",
       "      <td>3</td>\n",
       "      <td>3</td>\n",
       "      <td>2006-01-01</td>\n",
       "      <td>3000</td>\n",
       "      <td>-0.01</td>\n",
       "      <td>28.85</td>\n",
       "      <td>29.757</td>\n",
       "      <td>78.4</td>\n",
       "      <td>HighQ</td>\n",
       "      <td>1</td>\n",
       "    </tr>\n",
       "    <tr>\n",
       "      <td>4</td>\n",
       "      <td>4</td>\n",
       "      <td>2006-01-01</td>\n",
       "      <td>4000</td>\n",
       "      <td>-0.02</td>\n",
       "      <td>28.87</td>\n",
       "      <td>29.787</td>\n",
       "      <td>77.8</td>\n",
       "      <td>HighQ</td>\n",
       "      <td>1</td>\n",
       "    </tr>\n",
       "  </tbody>\n",
       "</table>\n",
       "</div>"
      ],
      "text/plain": [
       "   Timestamp   YYYYMMDD  HHMMSS  PREC   AIRT     SST    RH      Q  Month\n",
       "0          0 2006-01-01       0 -0.17  28.75  29.690  79.8  HighQ      1\n",
       "1          1 2006-01-01    1000  0.00  28.86  29.708  79.2  HighQ      1\n",
       "2          2 2006-01-01    2000 -0.02  28.91  29.749  79.4  HighQ      1\n",
       "3          3 2006-01-01    3000 -0.01  28.85  29.757  78.4  HighQ      1\n",
       "4          4 2006-01-01    4000 -0.02  28.87  29.787  77.8  HighQ      1"
      ]
     },
     "execution_count": 152,
     "metadata": {},
     "output_type": "execute_result"
    }
   ],
   "source": [
    "trop_atmos.head()"
   ]
  },
  {
   "cell_type": "markdown",
   "metadata": {},
   "source": [
    "# A5. Investigating Sea surface temperature (SST) in different months"
   ]
  },
  {
   "cell_type": "code",
   "execution_count": 153,
   "metadata": {},
   "outputs": [],
   "source": [
    "import matplotlib.pyplot as plt"
   ]
  },
  {
   "cell_type": "code",
   "execution_count": 154,
   "metadata": {},
   "outputs": [
    {
     "data": {
      "text/plain": [
       "<matplotlib.axes._subplots.AxesSubplot at 0x12dbaafd0>"
      ]
     },
     "execution_count": 154,
     "metadata": {},
     "output_type": "execute_result"
    },
    {
     "data": {
      "image/png": "[encoded data removed]",
      "text/plain": [
       "<Figure size 432x288 with 1 Axes>"
      ]
     },
     "metadata": {
      "needs_background": "light"
     },
     "output_type": "display_data"
    }
   ],
   "source": [
    "%matplotlib inline\n",
    "trop_atmos.boxplot(column = 'SST', by = 'Month')\n"
   ]
  },
  {
   "cell_type": "markdown",
   "metadata": {},
   "source": [
    "# A6. Exploring precipitation measurements (PREC)\n"
   ]
  },
  {
   "cell_type": "code",
   "execution_count": 155,
   "metadata": {},
   "outputs": [
    {
     "data": {
      "image/png": "[encoded data removed]",
      "text/plain": [
       "<Figure size 432x288 with 1 Axes>"
      ]
     },
     "metadata": {
      "needs_background": "light"
     },
     "output_type": "display_data"
    }
   ],
   "source": [
    "plt.scatter(trop_atmos['PREC'], trop_atmos['Timestamp'])\n",
    "plt.xlabel('PREC')\n",
    "plt.ylabel('Timestamp')\n",
    "plt.show()"
   ]
  },
  {
   "cell_type": "code",
   "execution_count": 156,
   "metadata": {},
   "outputs": [
    {
     "data": {
      "image/png": "[encoded data removed]",
      "text/plain": [
       "<Figure size 432x288 with 1 Axes>"
      ]
     },
     "metadata": {
      "needs_background": "light"
     },
     "output_type": "display_data"
    }
   ],
   "source": [
    "trop_atmos.loc[trop_atmos['PREC'] > 50, 'PREC'] = 0\n",
    "trop_atmos.loc[trop_atmos['PREC'] < 0, 'PREC'] = 0\n",
    "plt.scatter(trop_atmos['PREC'], trop_atmos['Timestamp'])\n",
    "plt.xlabel('PREC')\n",
    "plt.ylabel('Timestamp')\n",
    "plt.show()"
   ]
  },
  {
   "cell_type": "markdown",
   "metadata": {},
   "source": [
    "# A7. Relationship between variables"
   ]
  },
  {
   "cell_type": "code",
   "execution_count": 157,
   "metadata": {},
   "outputs": [
    {
     "data": {
      "text/plain": [
       "<seaborn.axisgrid.PairGrid at 0x12d8e8410>"
      ]
     },
     "execution_count": 157,
     "metadata": {},
     "output_type": "execute_result"
    },
    {
     "data": {
      "image/png": "[encoded data removed]",
      "text/plain": [
       "<Figure size 540x540 with 12 Axes>"
      ]
     },
     "metadata": {
      "needs_background": "light"
     },
     "output_type": "display_data"
    }
   ],
   "source": [
    "import seaborn as sb\n",
    "sb.pairplot(trop_atmos[['PREC', 'AIRT', 'SST']])"
   ]
  },
  {
   "cell_type": "code",
   "execution_count": 158,
   "metadata": {
    "scrolled": true
   },
   "outputs": [
    {
     "data": {
      "image/png": "[encoded data removed]",
      "text/plain": [
       "<Figure size 432x288 with 1 Axes>"
      ]
     },
     "metadata": {
      "needs_background": "light"
     },
     "output_type": "display_data"
    }
   ],
   "source": [
    "import matplotlib.lines as mlines\n",
    "\n",
    "model = LinearRegression()\n",
    "\n",
    "x=trop_atmos['AIRT']\n",
    "y=trop_atmos['RH']\n",
    "\n",
    "x = x[:, np.newaxis]\n",
    "y = y[:, np.newaxis]\n",
    "model.fit(x, y)\n",
    "plt.scatter(x, y)\n",
    "\n",
    "y_pred = model.predict(x)\n",
    "plt.plot(x, y_pred, color='r')\n",
    "plt.xlabel('AIRT')\n",
    "plt.ylabel('RH')\n",
    "plt.show()"
   ]
  },
  {
   "cell_type": "code",
   "execution_count": 159,
   "metadata": {},
   "outputs": [],
   "source": [
    "trop_atmos.loc[trop_atmos['Q'] == 'HighQ', 'Q'] = 1\n",
    "trop_atmos.loc[trop_atmos['Q'] == 'LowQ', 'Q'] = 0"
   ]
  },
  {
   "cell_type": "code",
   "execution_count": 160,
   "metadata": {},
   "outputs": [],
   "source": [
    "#split dataset in features and target variable\n",
    "features = ['PREC', 'AIRT', 'SST', 'RH']\n",
    "X = trop_atmos[features] # Features\n",
    "y = trop_atmos.Q # Target variable"
   ]
  },
  {
   "cell_type": "code",
   "execution_count": 161,
   "metadata": {},
   "outputs": [],
   "source": [
    "from sklearn.model_selection import train_test_split\n",
    "X_train, X_test, y_train, y_test = train_test_split(X, y, test_size = 0.25, random_state=1) # 70% training and 30% test"
   ]
  },
  {
   "cell_type": "code",
   "execution_count": 162,
   "metadata": {},
   "outputs": [
    {
     "data": {
      "text/plain": [
       "LinearRegression(copy_X=True, fit_intercept=True, n_jobs=None, normalize=False)"
      ]
     },
     "execution_count": 162,
     "metadata": {},
     "output_type": "execute_result"
    }
   ],
   "source": [
    "from sklearn.linear_model import LinearRegression\n",
    "clf = LinearRegression()\n",
    "clf.fit(X_train, y_train)"
   ]
  },
  {
   "cell_type": "code",
   "execution_count": 163,
   "metadata": {},
   "outputs": [
    {
     "data": {
      "text/plain": [
       "DecisionTreeClassifier(class_weight=None, criterion='gini', max_depth=None,\n",
       "                       max_features=None, max_leaf_nodes=None,\n",
       "                       min_impurity_decrease=0.0, min_impurity_split=None,\n",
       "                       min_samples_leaf=1, min_samples_split=2,\n",
       "                       min_weight_fraction_leaf=0.0, presort=False,\n",
       "                       random_state=None, splitter='best')"
      ]
     },
     "execution_count": 163,
     "metadata": {},
     "output_type": "execute_result"
    }
   ],
   "source": [
    "from sklearn import tree\n",
    "\n",
    "clf = tree.DecisionTreeClassifier()\n",
    "clf.fit(X_train, y_train)\n"
   ]
  },
  {
   "cell_type": "code",
   "execution_count": 164,
   "metadata": {},
   "outputs": [
    {
     "name": "stdout",
     "output_type": "stream",
     "text": [
      "Accuracy: 0.9978120681713496\n"
     ]
    }
   ],
   "source": [
    "from sklearn import metrics\n",
    "\n",
    "prediction = clf.predict(X_test)\n",
    "print(\"Accuracy:\",metrics.accuracy_score(y_test, prediction))"
   ]
  },
  {
   "cell_type": "code",
   "execution_count": 165,
   "metadata": {},
   "outputs": [
    {
     "name": "stdout",
     "output_type": "stream",
     "text": [
      "[[   1    8]\n",
      " [  11 8664]]\n",
      "Accuracy: 0.9976969138645785\n"
     ]
    }
   ],
   "source": [
    "from sklearn.metrics import confusion_matrix\n",
    "\n",
    "print(confusion_matrix(y_test,prediction))\n",
    "print(\"Accuracy:\",(1+8663)/(1+8+12+8663))"
   ]
  },
  {
   "cell_type": "code",
   "execution_count": null,
   "metadata": {},
   "outputs": [],
   "source": []
  },
  {
   "cell_type": "markdown",
   "metadata": {},
   "source": [
    "# A9. Investigating daily relative humidity (RH)\n"
   ]
  },
  {
   "cell_type": "code",
   "execution_count": 166,
   "metadata": {},
   "outputs": [
    {
     "data": {
      "text/html": [
       "<div>\n",
       "<style scoped>\n",
       "    .dataframe tbody tr th:only-of-type {\n",
       "        vertical-align: middle;\n",
       "    }\n",
       "\n",
       "    .dataframe tbody tr th {\n",
       "        vertical-align: top;\n",
       "    }\n",
       "\n",
       "    .dataframe thead th {\n",
       "        text-align: right;\n",
       "    }\n",
       "</style>\n",
       "<table border=\"1\" class=\"dataframe\">\n",
       "  <thead>\n",
       "    <tr style=\"text-align: right;\">\n",
       "      <th></th>\n",
       "      <th>Timestamp</th>\n",
       "      <th>YYYYMMDD</th>\n",
       "      <th>HHMMSS</th>\n",
       "      <th>PREC</th>\n",
       "      <th>AIRT</th>\n",
       "      <th>SST</th>\n",
       "      <th>RH</th>\n",
       "      <th>Q</th>\n",
       "      <th>Month</th>\n",
       "      <th>Day</th>\n",
       "    </tr>\n",
       "  </thead>\n",
       "  <tbody>\n",
       "    <tr>\n",
       "      <td>0</td>\n",
       "      <td>0</td>\n",
       "      <td>2006-01-01</td>\n",
       "      <td>0</td>\n",
       "      <td>0.00</td>\n",
       "      <td>28.75</td>\n",
       "      <td>29.690</td>\n",
       "      <td>79.8</td>\n",
       "      <td>1</td>\n",
       "      <td>1</td>\n",
       "      <td>1</td>\n",
       "    </tr>\n",
       "    <tr>\n",
       "      <td>1</td>\n",
       "      <td>1</td>\n",
       "      <td>2006-01-01</td>\n",
       "      <td>1000</td>\n",
       "      <td>0.00</td>\n",
       "      <td>28.86</td>\n",
       "      <td>29.708</td>\n",
       "      <td>79.2</td>\n",
       "      <td>1</td>\n",
       "      <td>1</td>\n",
       "      <td>1</td>\n",
       "    </tr>\n",
       "    <tr>\n",
       "      <td>2</td>\n",
       "      <td>2</td>\n",
       "      <td>2006-01-01</td>\n",
       "      <td>2000</td>\n",
       "      <td>0.00</td>\n",
       "      <td>28.91</td>\n",
       "      <td>29.749</td>\n",
       "      <td>79.4</td>\n",
       "      <td>1</td>\n",
       "      <td>1</td>\n",
       "      <td>1</td>\n",
       "    </tr>\n",
       "    <tr>\n",
       "      <td>3</td>\n",
       "      <td>3</td>\n",
       "      <td>2006-01-01</td>\n",
       "      <td>3000</td>\n",
       "      <td>0.00</td>\n",
       "      <td>28.85</td>\n",
       "      <td>29.757</td>\n",
       "      <td>78.4</td>\n",
       "      <td>1</td>\n",
       "      <td>1</td>\n",
       "      <td>1</td>\n",
       "    </tr>\n",
       "    <tr>\n",
       "      <td>4</td>\n",
       "      <td>4</td>\n",
       "      <td>2006-01-01</td>\n",
       "      <td>4000</td>\n",
       "      <td>0.00</td>\n",
       "      <td>28.87</td>\n",
       "      <td>29.787</td>\n",
       "      <td>77.8</td>\n",
       "      <td>1</td>\n",
       "      <td>1</td>\n",
       "      <td>1</td>\n",
       "    </tr>\n",
       "    <tr>\n",
       "      <td>...</td>\n",
       "      <td>...</td>\n",
       "      <td>...</td>\n",
       "      <td>...</td>\n",
       "      <td>...</td>\n",
       "      <td>...</td>\n",
       "      <td>...</td>\n",
       "      <td>...</td>\n",
       "      <td>...</td>\n",
       "      <td>...</td>\n",
       "      <td>...</td>\n",
       "    </tr>\n",
       "    <tr>\n",
       "      <td>35131</td>\n",
       "      <td>35131</td>\n",
       "      <td>2006-09-01</td>\n",
       "      <td>231000</td>\n",
       "      <td>0.40</td>\n",
       "      <td>29.20</td>\n",
       "      <td>29.680</td>\n",
       "      <td>75.6</td>\n",
       "      <td>1</td>\n",
       "      <td>9</td>\n",
       "      <td>1</td>\n",
       "    </tr>\n",
       "    <tr>\n",
       "      <td>35132</td>\n",
       "      <td>35132</td>\n",
       "      <td>2006-09-01</td>\n",
       "      <td>232000</td>\n",
       "      <td>0.00</td>\n",
       "      <td>29.25</td>\n",
       "      <td>29.686</td>\n",
       "      <td>75.4</td>\n",
       "      <td>1</td>\n",
       "      <td>9</td>\n",
       "      <td>1</td>\n",
       "    </tr>\n",
       "    <tr>\n",
       "      <td>35133</td>\n",
       "      <td>35133</td>\n",
       "      <td>2006-09-01</td>\n",
       "      <td>233000</td>\n",
       "      <td>0.00</td>\n",
       "      <td>29.15</td>\n",
       "      <td>29.697</td>\n",
       "      <td>75.2</td>\n",
       "      <td>1</td>\n",
       "      <td>9</td>\n",
       "      <td>1</td>\n",
       "    </tr>\n",
       "    <tr>\n",
       "      <td>35134</td>\n",
       "      <td>35134</td>\n",
       "      <td>2006-09-01</td>\n",
       "      <td>234000</td>\n",
       "      <td>0.00</td>\n",
       "      <td>29.18</td>\n",
       "      <td>29.704</td>\n",
       "      <td>74.2</td>\n",
       "      <td>1</td>\n",
       "      <td>9</td>\n",
       "      <td>1</td>\n",
       "    </tr>\n",
       "    <tr>\n",
       "      <td>35135</td>\n",
       "      <td>35135</td>\n",
       "      <td>2006-09-01</td>\n",
       "      <td>235000</td>\n",
       "      <td>0.12</td>\n",
       "      <td>29.20</td>\n",
       "      <td>29.718</td>\n",
       "      <td>74.9</td>\n",
       "      <td>1</td>\n",
       "      <td>9</td>\n",
       "      <td>1</td>\n",
       "    </tr>\n",
       "  </tbody>\n",
       "</table>\n",
       "<p>34735 rows × 10 columns</p>\n",
       "</div>"
      ],
      "text/plain": [
       "       Timestamp   YYYYMMDD  HHMMSS  PREC   AIRT     SST    RH  Q  Month  Day\n",
       "0              0 2006-01-01       0  0.00  28.75  29.690  79.8  1      1    1\n",
       "1              1 2006-01-01    1000  0.00  28.86  29.708  79.2  1      1    1\n",
       "2              2 2006-01-01    2000  0.00  28.91  29.749  79.4  1      1    1\n",
       "3              3 2006-01-01    3000  0.00  28.85  29.757  78.4  1      1    1\n",
       "4              4 2006-01-01    4000  0.00  28.87  29.787  77.8  1      1    1\n",
       "...          ...        ...     ...   ...    ...     ...   ... ..    ...  ...\n",
       "35131      35131 2006-09-01  231000  0.40  29.20  29.680  75.6  1      9    1\n",
       "35132      35132 2006-09-01  232000  0.00  29.25  29.686  75.4  1      9    1\n",
       "35133      35133 2006-09-01  233000  0.00  29.15  29.697  75.2  1      9    1\n",
       "35134      35134 2006-09-01  234000  0.00  29.18  29.704  74.2  1      9    1\n",
       "35135      35135 2006-09-01  235000  0.12  29.20  29.718  74.9  1      9    1\n",
       "\n",
       "[34735 rows x 10 columns]"
      ]
     },
     "execution_count": 166,
     "metadata": {},
     "output_type": "execute_result"
    }
   ],
   "source": [
    "trop_atmos['Day']=trop_atmos['YYYYMMDD'].dt.day\n",
    "trop_atmos\n"
   ]
  },
  {
   "cell_type": "code",
   "execution_count": 167,
   "metadata": {},
   "outputs": [
    {
     "name": "stdout",
     "output_type": "stream",
     "text": [
      "Day\n",
      "1     79.80\n",
      "2     80.45\n",
      "3     80.30\n",
      "4     79.50\n",
      "5     80.10\n",
      "6     79.20\n",
      "7     78.80\n",
      "8     80.30\n",
      "9     80.30\n",
      "10    79.90\n",
      "11    81.10\n",
      "12    79.70\n",
      "13    80.10\n",
      "14    79.90\n",
      "15    82.30\n",
      "16    81.30\n",
      "17    81.70\n",
      "18    79.70\n",
      "19    83.30\n",
      "20    79.90\n",
      "21    79.95\n",
      "22    80.50\n",
      "23    79.30\n",
      "24    79.70\n",
      "25    79.70\n",
      "26    79.40\n",
      "27    80.50\n",
      "28    79.75\n",
      "29    80.40\n",
      "30    79.90\n",
      "31    81.40\n",
      "Name: RH, dtype: float64\n"
     ]
    },
    {
     "data": {
      "image/png": "[encoded data removed]",
      "text/plain": [
       "<Figure size 432x288 with 1 Axes>"
      ]
     },
     "metadata": {
      "needs_background": "light"
     },
     "output_type": "display_data"
    }
   ],
   "source": [
    "from sklearn.linear_model import LinearRegression\n",
    "import numpy as np\n",
    "\n",
    "#x=trop_atmos['Day']\n",
    "y=trop_atmos.groupby('Day')['RH'].median()\n",
    "#print(y)\n",
    "#y=trop_atmos['Day']\n",
    "x=y.index\n",
    "print(y)\n",
    "\n",
    "x = x[:, np.newaxis]\n",
    "y = y[:, np.newaxis]\n",
    "\n",
    "model = LinearRegression()\n",
    "model.fit(x, y)\n",
    "y_pred = model.predict(x)\n",
    "\n",
    "\n",
    "plt.scatter(x, y)\n",
    "plt.plot(x, y_pred, color='r')\n",
    "plt.show()"
   ]
  },
  {
   "cell_type": "markdown",
   "metadata": {},
   "source": [
    "# A10. Fill Missing Values"
   ]
  },
  {
   "cell_type": "code",
   "execution_count": 60,
   "metadata": {},
   "outputs": [
    {
     "name": "stdout",
     "output_type": "stream",
     "text": [
      "90\n",
      "   Timestamp  YYYYMMDD  HHMMSS  PREC   AIRT     SST    RH      Q\n",
      "0          0  20060101       0 -0.17  28.75  29.690  79.8  HighQ\n",
      "1          1  20060101    1000  0.00  28.86  29.708  79.2  HighQ\n",
      "2          2  20060101    2000 -0.02  28.91  29.749  79.4  HighQ\n",
      "3          3  20060101    3000 -0.01  28.85  29.757  78.4  HighQ\n",
      "4          4  20060101    4000 -0.02  28.87  29.787  77.8  HighQ\n"
     ]
    },
    {
     "name": "stderr",
     "output_type": "stream",
     "text": [
      "d:\\net work\\documents\\hassan\\assignment\\.venv\\lib\\site-packages\\ipykernel_launcher.py:41: SettingWithCopyWarning: \n",
      "A value is trying to be set on a copy of a slice from a DataFrame\n",
      "\n",
      "See the caveats in the documentation: http://pandas.pydata.org/pandas-docs/stable/user_guide/indexing.html#returning-a-view-versus-a-copy\n"
     ]
    }
   ],
   "source": [
    "from pandas import read_csv\n",
    "import numpy as np\n",
    "import pandas as pd\n",
    "import numpy\n",
    "from sklearn import linear_model\n",
    "import matplotlib.pyplot as plt\n",
    "\n",
    "#reload to have full csv \n",
    "dataset = pd.read_csv('TAO_2006.csv')\n",
    "\n",
    "#replacing missing value with NaN\n",
    "dataset['RH'] = dataset['RH'].replace(-99.9, numpy.NaN)\n",
    "\n",
    "# Use notnull value to create linear regression model\n",
    "dNotnull = dataset[dataset.RH.notnull()]\n",
    "\n",
    "# Find out teh Timestamp and RH for that column\n",
    "x=dNotnull['Timestamp']\n",
    "y=dNotnull['RH']\n",
    "\n",
    "x = x[:, np.newaxis]\n",
    "y = y[:, np.newaxis]\n",
    "\n",
    "\n",
    "# Fit the model for the x and y values\n",
    "model = linear_model.LinearRegression()\n",
    "model.fit(x, y)\n",
    "\n",
    "# To predict data use whole data \n",
    "x_pred = dataset['Timestamp']\n",
    "x_pred = x_pred[:, np.newaxis]\n",
    "\n",
    "y_pred = model.predict(x_pred)\n",
    "\n",
    "# Find out where is the null values in RH column\n",
    "index = dataset.RH.isnull()\n",
    "counter = 0\n",
    "for i, val in enumerate(index):\n",
    "    if val:\n",
    "        counter += 1\n",
    "        dataset['RH'][i] = y_pred[i]\n",
    "print(counter)\n",
    "# Print the data.head\n",
    "print(dataset.head())\n",
    "\n"
   ]
  },
  {
   "cell_type": "code",
   "execution_count": null,
   "metadata": {},
   "outputs": [],
   "source": []
  },
  {
   "cell_type": "code",
   "execution_count": null,
   "metadata": {},
   "outputs": [],
   "source": []
  }
 ],
 "metadata": {
  "kernelspec": {
   "display_name": "Python 3",
   "language": "python",
   "name": "python3"
  },
  "language_info": {
   "codemirror_mode": {
    "name": "ipython",
    "version": 3
   },
   "file_extension": ".py",
   "mimetype": "text/x-python",
   "name": "python",
   "nbconvert_exporter": "python",
   "pygments_lexer": "ipython3",
   "version": "3.6.5"
  }
 },
 "nbformat": 4,
 "nbformat_minor": 4
}
