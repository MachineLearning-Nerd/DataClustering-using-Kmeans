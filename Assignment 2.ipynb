{
 "cells": [
  {
   "cell_type": "code",
   "execution_count": 156,
   "metadata": {},
   "outputs": [],
   "source": [
    "import pandas as pd"
   ]
  },
  {
   "cell_type": "code",
   "execution_count": 157,
   "metadata": {},
   "outputs": [
    {
     "data": {
      "text/html": [
       "<div>\n",
       "<style scoped>\n",
       "    .dataframe tbody tr th:only-of-type {\n",
       "        vertical-align: middle;\n",
       "    }\n",
       "\n",
       "    .dataframe tbody tr th {\n",
       "        vertical-align: top;\n",
       "    }\n",
       "\n",
       "    .dataframe thead th {\n",
       "        text-align: right;\n",
       "    }\n",
       "</style>\n",
       "<table border=\"1\" class=\"dataframe\">\n",
       "  <thead>\n",
       "    <tr style=\"text-align: right;\">\n",
       "      <th></th>\n",
       "      <th>Timestamp</th>\n",
       "      <th>YYYYMMDD</th>\n",
       "      <th>HHMMSS</th>\n",
       "      <th>PREC</th>\n",
       "      <th>AIRT</th>\n",
       "      <th>SST</th>\n",
       "      <th>RH</th>\n",
       "      <th>Q</th>\n",
       "    </tr>\n",
       "  </thead>\n",
       "  <tbody>\n",
       "    <tr>\n",
       "      <th>0</th>\n",
       "      <td>0</td>\n",
       "      <td>20060101</td>\n",
       "      <td>0</td>\n",
       "      <td>-0.17</td>\n",
       "      <td>28.75</td>\n",
       "      <td>29.690</td>\n",
       "      <td>79.8</td>\n",
       "      <td>HighQ</td>\n",
       "    </tr>\n",
       "    <tr>\n",
       "      <th>1</th>\n",
       "      <td>1</td>\n",
       "      <td>20060101</td>\n",
       "      <td>1000</td>\n",
       "      <td>0.00</td>\n",
       "      <td>28.86</td>\n",
       "      <td>29.708</td>\n",
       "      <td>79.2</td>\n",
       "      <td>HighQ</td>\n",
       "    </tr>\n",
       "    <tr>\n",
       "      <th>2</th>\n",
       "      <td>2</td>\n",
       "      <td>20060101</td>\n",
       "      <td>2000</td>\n",
       "      <td>-0.02</td>\n",
       "      <td>28.91</td>\n",
       "      <td>29.749</td>\n",
       "      <td>79.4</td>\n",
       "      <td>HighQ</td>\n",
       "    </tr>\n",
       "    <tr>\n",
       "      <th>3</th>\n",
       "      <td>3</td>\n",
       "      <td>20060101</td>\n",
       "      <td>3000</td>\n",
       "      <td>-0.01</td>\n",
       "      <td>28.85</td>\n",
       "      <td>29.757</td>\n",
       "      <td>78.4</td>\n",
       "      <td>HighQ</td>\n",
       "    </tr>\n",
       "    <tr>\n",
       "      <th>4</th>\n",
       "      <td>4</td>\n",
       "      <td>20060101</td>\n",
       "      <td>4000</td>\n",
       "      <td>-0.02</td>\n",
       "      <td>28.87</td>\n",
       "      <td>29.787</td>\n",
       "      <td>77.8</td>\n",
       "      <td>HighQ</td>\n",
       "    </tr>\n",
       "  </tbody>\n",
       "</table>\n",
       "</div>"
      ],
      "text/plain": [
       "   Timestamp  YYYYMMDD  HHMMSS  PREC   AIRT     SST    RH      Q\n",
       "0          0  20060101       0 -0.17  28.75  29.690  79.8  HighQ\n",
       "1          1  20060101    1000  0.00  28.86  29.708  79.2  HighQ\n",
       "2          2  20060101    2000 -0.02  28.91  29.749  79.4  HighQ\n",
       "3          3  20060101    3000 -0.01  28.85  29.757  78.4  HighQ\n",
       "4          4  20060101    4000 -0.02  28.87  29.787  77.8  HighQ"
      ]
     },
     "execution_count": 157,
     "metadata": {},
     "output_type": "execute_result"
    }
   ],
   "source": [
    "trop_atmos = pd.read_csv('TAO_2006.csv')\n",
    "trop_atmos.head()"
   ]
  },
  {
   "cell_type": "markdown",
   "metadata": {},
   "source": [
    "# A1- Dataset Size"
   ]
  },
  {
   "cell_type": "code",
   "execution_count": 158,
   "metadata": {},
   "outputs": [
    {
     "name": "stdout",
     "output_type": "stream",
     "text": [
      "The total number of rows and columns are (35136, 8)\n"
     ]
    }
   ],
   "source": [
    "A1= trop_atmos.shape\n",
    "print('The total number of rows and columns are ' + str(A1))"
   ]
  },
  {
   "cell_type": "markdown",
   "metadata": {},
   "source": [
    "# A2- Max/Min values in each column"
   ]
  },
  {
   "cell_type": "code",
   "execution_count": 159,
   "metadata": {},
   "outputs": [
    {
     "name": "stdout",
     "output_type": "stream",
     "text": [
      "The maximum value of Precipitation is 75.77\n"
     ]
    }
   ],
   "source": [
    "A2a = trop_atmos['PREC'].max()\n",
    "print('The maximum value of Precipitation is ' + str(A2a))"
   ]
  },
  {
   "cell_type": "code",
   "execution_count": 160,
   "metadata": {},
   "outputs": [
    {
     "name": "stdout",
     "output_type": "stream",
     "text": [
      "The minimum value of Precipitation is -9.99\n"
     ]
    }
   ],
   "source": [
    "A2b = trop_atmos['PREC'].min()\n",
    "print('The minimum value of Precipitation is ' + str(A2b))"
   ]
  },
  {
   "cell_type": "code",
   "execution_count": 161,
   "metadata": {},
   "outputs": [
    {
     "name": "stdout",
     "output_type": "stream",
     "text": [
      "The maximum value of Air Temperature is 31.57\n"
     ]
    }
   ],
   "source": [
    "A2c = trop_atmos['AIRT'].max()\n",
    "print('The maximum value of Air Temperature is ' + str(A2c))"
   ]
  },
  {
   "cell_type": "code",
   "execution_count": 162,
   "metadata": {},
   "outputs": [
    {
     "name": "stdout",
     "output_type": "stream",
     "text": [
      "The minimum value of Air Temperature is -99.9\n"
     ]
    }
   ],
   "source": [
    "A2d = trop_atmos['AIRT'].min()\n",
    "print('The minimum value of Air Temperature is ' + str(A2d))"
   ]
  },
  {
   "cell_type": "code",
   "execution_count": 163,
   "metadata": {},
   "outputs": [
    {
     "name": "stdout",
     "output_type": "stream",
     "text": [
      "The maximum value of Sea Surface Temperature is 31.346\n"
     ]
    }
   ],
   "source": [
    "A2e = trop_atmos['SST'].max()\n",
    "print('The maximum value of Sea Surface Temperature is ' + str(A2e))"
   ]
  },
  {
   "cell_type": "code",
   "execution_count": 164,
   "metadata": {},
   "outputs": [
    {
     "name": "stdout",
     "output_type": "stream",
     "text": [
      "The minimum value of Sea Surface Temperature is -99.9\n"
     ]
    }
   ],
   "source": [
    "A2f = trop_atmos['SST'].min()\n",
    "print('The minimum value of Sea Surface Temperature is ' + str(A2f))"
   ]
  },
  {
   "cell_type": "code",
   "execution_count": 165,
   "metadata": {},
   "outputs": [
    {
     "name": "stdout",
     "output_type": "stream",
     "text": [
      "The maximum value of Relative Humidity is 98.1\n"
     ]
    }
   ],
   "source": [
    "A2g = trop_atmos['RH'].max()\n",
    "print('The maximum value of Relative Humidity is ' + str(A2g))"
   ]
  },
  {
   "cell_type": "code",
   "execution_count": 166,
   "metadata": {},
   "outputs": [
    {
     "name": "stdout",
     "output_type": "stream",
     "text": [
      "The minimum value of Relative Humidity is -99.9\n"
     ]
    }
   ],
   "source": [
    "A2h = trop_atmos['RH'].min()\n",
    "print('The minimum value of Relative Humidity is ' + str(A2h))"
   ]
  },
  {
   "cell_type": "markdown",
   "metadata": {},
   "source": [
    "# A3- Number of records in each month"
   ]
  },
  {
   "cell_type": "code",
   "execution_count": 167,
   "metadata": {},
   "outputs": [
    {
     "data": {
      "text/html": [
       "<div>\n",
       "<style scoped>\n",
       "    .dataframe tbody tr th:only-of-type {\n",
       "        vertical-align: middle;\n",
       "    }\n",
       "\n",
       "    .dataframe tbody tr th {\n",
       "        vertical-align: top;\n",
       "    }\n",
       "\n",
       "    .dataframe thead th {\n",
       "        text-align: right;\n",
       "    }\n",
       "</style>\n",
       "<table border=\"1\" class=\"dataframe\">\n",
       "  <thead>\n",
       "    <tr style=\"text-align: right;\">\n",
       "      <th></th>\n",
       "      <th>Timestamp</th>\n",
       "      <th>YYYYMMDD</th>\n",
       "      <th>HHMMSS</th>\n",
       "      <th>PREC</th>\n",
       "      <th>AIRT</th>\n",
       "      <th>SST</th>\n",
       "      <th>RH</th>\n",
       "      <th>Q</th>\n",
       "    </tr>\n",
       "  </thead>\n",
       "  <tbody>\n",
       "    <tr>\n",
       "      <th>0</th>\n",
       "      <td>0</td>\n",
       "      <td>2006-01-01</td>\n",
       "      <td>0</td>\n",
       "      <td>-0.17</td>\n",
       "      <td>28.75</td>\n",
       "      <td>29.690</td>\n",
       "      <td>79.8</td>\n",
       "      <td>HighQ</td>\n",
       "    </tr>\n",
       "    <tr>\n",
       "      <th>1</th>\n",
       "      <td>1</td>\n",
       "      <td>2006-01-01</td>\n",
       "      <td>1000</td>\n",
       "      <td>0.00</td>\n",
       "      <td>28.86</td>\n",
       "      <td>29.708</td>\n",
       "      <td>79.2</td>\n",
       "      <td>HighQ</td>\n",
       "    </tr>\n",
       "    <tr>\n",
       "      <th>2</th>\n",
       "      <td>2</td>\n",
       "      <td>2006-01-01</td>\n",
       "      <td>2000</td>\n",
       "      <td>-0.02</td>\n",
       "      <td>28.91</td>\n",
       "      <td>29.749</td>\n",
       "      <td>79.4</td>\n",
       "      <td>HighQ</td>\n",
       "    </tr>\n",
       "    <tr>\n",
       "      <th>3</th>\n",
       "      <td>3</td>\n",
       "      <td>2006-01-01</td>\n",
       "      <td>3000</td>\n",
       "      <td>-0.01</td>\n",
       "      <td>28.85</td>\n",
       "      <td>29.757</td>\n",
       "      <td>78.4</td>\n",
       "      <td>HighQ</td>\n",
       "    </tr>\n",
       "    <tr>\n",
       "      <th>4</th>\n",
       "      <td>4</td>\n",
       "      <td>2006-01-01</td>\n",
       "      <td>4000</td>\n",
       "      <td>-0.02</td>\n",
       "      <td>28.87</td>\n",
       "      <td>29.787</td>\n",
       "      <td>77.8</td>\n",
       "      <td>HighQ</td>\n",
       "    </tr>\n",
       "  </tbody>\n",
       "</table>\n",
       "</div>"
      ],
      "text/plain": [
       "   Timestamp   YYYYMMDD  HHMMSS  PREC   AIRT     SST    RH      Q\n",
       "0          0 2006-01-01       0 -0.17  28.75  29.690  79.8  HighQ\n",
       "1          1 2006-01-01    1000  0.00  28.86  29.708  79.2  HighQ\n",
       "2          2 2006-01-01    2000 -0.02  28.91  29.749  79.4  HighQ\n",
       "3          3 2006-01-01    3000 -0.01  28.85  29.757  78.4  HighQ\n",
       "4          4 2006-01-01    4000 -0.02  28.87  29.787  77.8  HighQ"
      ]
     },
     "execution_count": 167,
     "metadata": {},
     "output_type": "execute_result"
    }
   ],
   "source": [
    "trop_atmos['YYYYMMDD'] = pd.to_datetime(trop_atmos['YYYYMMDD'].astype(str), format = '%Y%m%d')\n",
    "trop_atmos.head()"
   ]
  },
  {
   "cell_type": "code",
   "execution_count": 168,
   "metadata": {},
   "outputs": [
    {
     "data": {
      "text/html": [
       "<div>\n",
       "<style scoped>\n",
       "    .dataframe tbody tr th:only-of-type {\n",
       "        vertical-align: middle;\n",
       "    }\n",
       "\n",
       "    .dataframe tbody tr th {\n",
       "        vertical-align: top;\n",
       "    }\n",
       "\n",
       "    .dataframe thead th {\n",
       "        text-align: right;\n",
       "    }\n",
       "</style>\n",
       "<table border=\"1\" class=\"dataframe\">\n",
       "  <thead>\n",
       "    <tr style=\"text-align: right;\">\n",
       "      <th></th>\n",
       "      <th>Timestamp</th>\n",
       "      <th>YYYYMMDD</th>\n",
       "      <th>HHMMSS</th>\n",
       "      <th>PREC</th>\n",
       "      <th>AIRT</th>\n",
       "      <th>SST</th>\n",
       "      <th>RH</th>\n",
       "      <th>Q</th>\n",
       "      <th>Month</th>\n",
       "    </tr>\n",
       "  </thead>\n",
       "  <tbody>\n",
       "    <tr>\n",
       "      <th>0</th>\n",
       "      <td>0</td>\n",
       "      <td>2006-01-01</td>\n",
       "      <td>0</td>\n",
       "      <td>-0.17</td>\n",
       "      <td>28.75</td>\n",
       "      <td>29.690</td>\n",
       "      <td>79.8</td>\n",
       "      <td>HighQ</td>\n",
       "      <td>1</td>\n",
       "    </tr>\n",
       "    <tr>\n",
       "      <th>1</th>\n",
       "      <td>1</td>\n",
       "      <td>2006-01-01</td>\n",
       "      <td>1000</td>\n",
       "      <td>0.00</td>\n",
       "      <td>28.86</td>\n",
       "      <td>29.708</td>\n",
       "      <td>79.2</td>\n",
       "      <td>HighQ</td>\n",
       "      <td>1</td>\n",
       "    </tr>\n",
       "    <tr>\n",
       "      <th>2</th>\n",
       "      <td>2</td>\n",
       "      <td>2006-01-01</td>\n",
       "      <td>2000</td>\n",
       "      <td>-0.02</td>\n",
       "      <td>28.91</td>\n",
       "      <td>29.749</td>\n",
       "      <td>79.4</td>\n",
       "      <td>HighQ</td>\n",
       "      <td>1</td>\n",
       "    </tr>\n",
       "    <tr>\n",
       "      <th>3</th>\n",
       "      <td>3</td>\n",
       "      <td>2006-01-01</td>\n",
       "      <td>3000</td>\n",
       "      <td>-0.01</td>\n",
       "      <td>28.85</td>\n",
       "      <td>29.757</td>\n",
       "      <td>78.4</td>\n",
       "      <td>HighQ</td>\n",
       "      <td>1</td>\n",
       "    </tr>\n",
       "    <tr>\n",
       "      <th>4</th>\n",
       "      <td>4</td>\n",
       "      <td>2006-01-01</td>\n",
       "      <td>4000</td>\n",
       "      <td>-0.02</td>\n",
       "      <td>28.87</td>\n",
       "      <td>29.787</td>\n",
       "      <td>77.8</td>\n",
       "      <td>HighQ</td>\n",
       "      <td>1</td>\n",
       "    </tr>\n",
       "  </tbody>\n",
       "</table>\n",
       "</div>"
      ],
      "text/plain": [
       "   Timestamp   YYYYMMDD  HHMMSS  PREC   AIRT     SST    RH      Q  Month\n",
       "0          0 2006-01-01       0 -0.17  28.75  29.690  79.8  HighQ      1\n",
       "1          1 2006-01-01    1000  0.00  28.86  29.708  79.2  HighQ      1\n",
       "2          2 2006-01-01    2000 -0.02  28.91  29.749  79.4  HighQ      1\n",
       "3          3 2006-01-01    3000 -0.01  28.85  29.757  78.4  HighQ      1\n",
       "4          4 2006-01-01    4000 -0.02  28.87  29.787  77.8  HighQ      1"
      ]
     },
     "execution_count": 168,
     "metadata": {},
     "output_type": "execute_result"
    }
   ],
   "source": [
    "trop_atmos['Month']=trop_atmos['YYYYMMDD'].dt.month\n",
    "trop_atmos.head()"
   ]
  },
  {
   "cell_type": "code",
   "execution_count": 169,
   "metadata": {},
   "outputs": [
    {
     "data": {
      "text/plain": [
       "8    4464\n",
       "7    4464\n",
       "5    4464\n",
       "3    4464\n",
       "1    4464\n",
       "6    4320\n",
       "4    4320\n",
       "2    4032\n",
       "9     144\n",
       "Name: Month, dtype: int64"
      ]
     },
     "execution_count": 169,
     "metadata": {},
     "output_type": "execute_result"
    }
   ],
   "source": [
    "trop_atmos['Month'].value_counts()"
   ]
  },
  {
   "cell_type": "markdown",
   "metadata": {},
   "source": [
    "# A4-Missing Values"
   ]
  },
  {
   "cell_type": "code",
   "execution_count": 170,
   "metadata": {},
   "outputs": [
    {
     "data": {
      "text/plain": [
       "Timestamp    401\n",
       "YYYYMMDD     401\n",
       "HHMMSS       401\n",
       "PREC         401\n",
       "AIRT         401\n",
       "SST          401\n",
       "RH           401\n",
       "Q            401\n",
       "Month        401\n",
       "dtype: int64"
      ]
     },
     "execution_count": 170,
     "metadata": {},
     "output_type": "execute_result"
    }
   ],
   "source": [
    "column= ['PREC','SST', 'AIRT', 'RH']\n",
    "cond1= trop_atmos['PREC']== -9.99\n",
    "cond2= trop_atmos['SST']== -99.9\n",
    "cond3= trop_atmos['AIRT']==-99.9\n",
    "cond4= trop_atmos['RH']== -99.9\n",
    "cond= cond1|cond2|cond3|cond4\n",
    "trop_atmos[cond].count()"
   ]
  },
  {
   "cell_type": "code",
   "execution_count": 171,
   "metadata": {
    "scrolled": true
   },
   "outputs": [
    {
     "data": {
      "text/plain": [
       "5    4464\n",
       "1    4461\n",
       "3    4458\n",
       "8    4323\n",
       "4    4317\n",
       "6    4315\n",
       "7    4221\n",
       "2    4032\n",
       "9     144\n",
       "Name: Month, dtype: int64"
      ]
     },
     "execution_count": 171,
     "metadata": {},
     "output_type": "execute_result"
    }
   ],
   "source": [
    "Set = trop_atmos[~cond]\n",
    "Set['Month'].value_counts()"
   ]
  },
  {
   "cell_type": "code",
   "execution_count": 172,
   "metadata": {},
   "outputs": [
    {
     "data": {
      "text/plain": [
       "7    243\n",
       "8    141\n",
       "3      6\n",
       "6      5\n",
       "4      3\n",
       "1      3\n",
       "Name: Month, dtype: int64"
      ]
     },
     "execution_count": 172,
     "metadata": {},
     "output_type": "execute_result"
    }
   ],
   "source": [
    "Set = trop_atmos[cond]\n",
    "Set['Month'].value_counts()"
   ]
  },
  {
   "cell_type": "code",
   "execution_count": 173,
   "metadata": {},
   "outputs": [
    {
     "data": {
      "text/plain": [
       "(34735, 9)"
      ]
     },
     "execution_count": 173,
     "metadata": {},
     "output_type": "execute_result"
    }
   ],
   "source": [
    "D= set(trop_atmos.index).intersection(Set.index)\n",
    "trop_atmos= trop_atmos.drop(D, axis=0)\n",
    "trop_atmos.shape"
   ]
  },
  {
   "cell_type": "code",
   "execution_count": 174,
   "metadata": {},
   "outputs": [
    {
     "data": {
      "text/html": [
       "<div>\n",
       "<style scoped>\n",
       "    .dataframe tbody tr th:only-of-type {\n",
       "        vertical-align: middle;\n",
       "    }\n",
       "\n",
       "    .dataframe tbody tr th {\n",
       "        vertical-align: top;\n",
       "    }\n",
       "\n",
       "    .dataframe thead th {\n",
       "        text-align: right;\n",
       "    }\n",
       "</style>\n",
       "<table border=\"1\" class=\"dataframe\">\n",
       "  <thead>\n",
       "    <tr style=\"text-align: right;\">\n",
       "      <th></th>\n",
       "      <th>Timestamp</th>\n",
       "      <th>YYYYMMDD</th>\n",
       "      <th>HHMMSS</th>\n",
       "      <th>PREC</th>\n",
       "      <th>AIRT</th>\n",
       "      <th>SST</th>\n",
       "      <th>RH</th>\n",
       "      <th>Q</th>\n",
       "      <th>Month</th>\n",
       "    </tr>\n",
       "  </thead>\n",
       "  <tbody>\n",
       "    <tr>\n",
       "      <th>0</th>\n",
       "      <td>0</td>\n",
       "      <td>2006-01-01</td>\n",
       "      <td>0</td>\n",
       "      <td>-0.17</td>\n",
       "      <td>28.75</td>\n",
       "      <td>29.690</td>\n",
       "      <td>79.8</td>\n",
       "      <td>HighQ</td>\n",
       "      <td>1</td>\n",
       "    </tr>\n",
       "    <tr>\n",
       "      <th>1</th>\n",
       "      <td>1</td>\n",
       "      <td>2006-01-01</td>\n",
       "      <td>1000</td>\n",
       "      <td>0.00</td>\n",
       "      <td>28.86</td>\n",
       "      <td>29.708</td>\n",
       "      <td>79.2</td>\n",
       "      <td>HighQ</td>\n",
       "      <td>1</td>\n",
       "    </tr>\n",
       "    <tr>\n",
       "      <th>2</th>\n",
       "      <td>2</td>\n",
       "      <td>2006-01-01</td>\n",
       "      <td>2000</td>\n",
       "      <td>-0.02</td>\n",
       "      <td>28.91</td>\n",
       "      <td>29.749</td>\n",
       "      <td>79.4</td>\n",
       "      <td>HighQ</td>\n",
       "      <td>1</td>\n",
       "    </tr>\n",
       "    <tr>\n",
       "      <th>3</th>\n",
       "      <td>3</td>\n",
       "      <td>2006-01-01</td>\n",
       "      <td>3000</td>\n",
       "      <td>-0.01</td>\n",
       "      <td>28.85</td>\n",
       "      <td>29.757</td>\n",
       "      <td>78.4</td>\n",
       "      <td>HighQ</td>\n",
       "      <td>1</td>\n",
       "    </tr>\n",
       "    <tr>\n",
       "      <th>4</th>\n",
       "      <td>4</td>\n",
       "      <td>2006-01-01</td>\n",
       "      <td>4000</td>\n",
       "      <td>-0.02</td>\n",
       "      <td>28.87</td>\n",
       "      <td>29.787</td>\n",
       "      <td>77.8</td>\n",
       "      <td>HighQ</td>\n",
       "      <td>1</td>\n",
       "    </tr>\n",
       "  </tbody>\n",
       "</table>\n",
       "</div>"
      ],
      "text/plain": [
       "   Timestamp   YYYYMMDD  HHMMSS  PREC   AIRT     SST    RH      Q  Month\n",
       "0          0 2006-01-01       0 -0.17  28.75  29.690  79.8  HighQ      1\n",
       "1          1 2006-01-01    1000  0.00  28.86  29.708  79.2  HighQ      1\n",
       "2          2 2006-01-01    2000 -0.02  28.91  29.749  79.4  HighQ      1\n",
       "3          3 2006-01-01    3000 -0.01  28.85  29.757  78.4  HighQ      1\n",
       "4          4 2006-01-01    4000 -0.02  28.87  29.787  77.8  HighQ      1"
      ]
     },
     "execution_count": 174,
     "metadata": {},
     "output_type": "execute_result"
    }
   ],
   "source": [
    "trop_atmos.head()"
   ]
  },
  {
   "cell_type": "markdown",
   "metadata": {},
   "source": [
    "# A5. Investigating Sea surface temperature (SST) in different months"
   ]
  },
  {
   "cell_type": "code",
   "execution_count": 175,
   "metadata": {},
   "outputs": [],
   "source": [
    "import matplotlib.pyplot as plt"
   ]
  },
  {
   "cell_type": "code",
   "execution_count": 176,
   "metadata": {},
   "outputs": [
    {
     "data": {
      "text/plain": [
       "<matplotlib.axes._subplots.AxesSubplot at 0x1e79b220e80>"
      ]
     },
     "execution_count": 176,
     "metadata": {},
     "output_type": "execute_result"
    },
    {
     "data": {
      "image/png": "[encoded data removed]",
      "text/plain": [
       "<Figure size 432x288 with 1 Axes>"
      ]
     },
     "metadata": {
      "needs_background": "light"
     },
     "output_type": "display_data"
    }
   ],
   "source": [
    "%matplotlib inline\n",
    "trop_atmos.boxplot(column = 'SST', by = 'Month')\n"
   ]
  },
  {
   "cell_type": "markdown",
   "metadata": {},
   "source": [
    "# A6. Exploring precipitation measurements (PREC)\n"
   ]
  },
  {
   "cell_type": "code",
   "execution_count": 177,
   "metadata": {},
   "outputs": [
    {
     "data": {
      "image/png": "[encoded data removed]",
      "text/plain": [
       "<Figure size 432x288 with 1 Axes>"
      ]
     },
     "metadata": {
      "needs_background": "light"
     },
     "output_type": "display_data"
    }
   ],
   "source": [
    "plt.scatter(trop_atmos['PREC'], trop_atmos['Timestamp'])\n",
    "plt.xlabel('PREC')\n",
    "plt.ylabel('Timestamp')\n",
    "plt.show()"
   ]
  },
  {
   "cell_type": "code",
   "execution_count": 178,
   "metadata": {},
   "outputs": [
    {
     "data": {
      "image/png": "[encoded data removed]",
      "text/plain": [
       "<Figure size 432x288 with 1 Axes>"
      ]
     },
     "metadata": {
      "needs_background": "light"
     },
     "output_type": "display_data"
    }
   ],
   "source": [
    "trop_atmos.loc[trop_atmos['PREC'] > 50, 'PREC'] = 0\n",
    "trop_atmos.loc[trop_atmos['PREC'] < 0, 'PREC'] = 0\n",
    "plt.scatter(trop_atmos['PREC'], trop_atmos['Timestamp'])\n",
    "plt.xlabel('PREC')\n",
    "plt.ylabel('Timestamp')\n",
    "plt.show()"
   ]
  },
  {
   "cell_type": "markdown",
   "metadata": {},
   "source": [
    "# A7. Relationship between variables"
   ]
  },
  {
   "cell_type": "code",
   "execution_count": 179,
   "metadata": {},
   "outputs": [
    {
     "data": {
      "text/plain": [
       "<seaborn.axisgrid.PairGrid at 0x1e79b4de4e0>"
      ]
     },
     "execution_count": 179,
     "metadata": {},
     "output_type": "execute_result"
    },
    {
     "data": {
      "image/png": "[encoded data removed]",
      "text/plain": [
       "<Figure size 540x540 with 12 Axes>"
      ]
     },
     "metadata": {
      "needs_background": "light"
     },
     "output_type": "display_data"
    }
   ],
   "source": [
    "import seaborn as sb\n",
    "sb.pairplot(trop_atmos[['PREC', 'AIRT', 'SST']])"
   ]
  },
  {
   "cell_type": "code",
   "execution_count": 180,
   "metadata": {
    "scrolled": true
   },
   "outputs": [
    {
     "data": {
      "image/png": "[encoded data removed]",
      "text/plain": [
       "<Figure size 432x288 with 1 Axes>"
      ]
     },
     "metadata": {
      "needs_background": "light"
     },
     "output_type": "display_data"
    }
   ],
   "source": [
    "import matplotlib.lines as mlines\n",
    "\n",
    "model = LinearRegression()\n",
    "\n",
    "x=trop_atmos['AIRT']\n",
    "y=trop_atmos['RH']\n",
    "\n",
    "x = x[:, np.newaxis]\n",
    "y = y[:, np.newaxis]\n",
    "model.fit(x, y)\n",
    "plt.scatter(x, y)\n",
    "\n",
    "y_pred = model.predict(x)\n",
    "plt.plot(x, y_pred, color='r')\n",
    "plt.xlabel('AIRT')\n",
    "plt.ylabel('RH')\n",
    "plt.show()"
   ]
  },
  {
   "cell_type": "code",
   "execution_count": 181,
   "metadata": {},
   "outputs": [],
   "source": [
    "trop_atmos.loc[trop_atmos['Q'] == 'HighQ', 'Q'] = 1\n",
    "trop_atmos.loc[trop_atmos['Q'] == 'LowQ', 'Q'] = 0"
   ]
  },
  {
   "cell_type": "code",
   "execution_count": 182,
   "metadata": {},
   "outputs": [],
   "source": [
    "#split dataset in features and target variable\n",
    "features = ['PREC', 'AIRT', 'SST', 'RH']\n",
    "X = trop_atmos[features] # Features\n",
    "y = trop_atmos.Q # Target variable"
   ]
  },
  {
   "cell_type": "code",
   "execution_count": 183,
   "metadata": {},
   "outputs": [],
   "source": [
    "from sklearn.model_selection import train_test_split\n",
    "X_train, X_test, y_train, y_test = train_test_split(X, y, test_size = 0.25, random_state=1) # 70% training and 30% test"
   ]
  },
  {
   "cell_type": "code",
   "execution_count": 184,
   "metadata": {},
   "outputs": [
    {
     "data": {
      "text/plain": [
       "LinearRegression(copy_X=True, fit_intercept=True, n_jobs=None, normalize=False)"
      ]
     },
     "execution_count": 184,
     "metadata": {},
     "output_type": "execute_result"
    }
   ],
   "source": [
    "from sklearn.linear_model import LinearRegression\n",
    "clf = LinearRegression()\n",
    "clf.fit(X_train, y_train)"
   ]
  },
  {
   "cell_type": "code",
   "execution_count": 185,
   "metadata": {},
   "outputs": [
    {
     "data": {
      "text/plain": [
       "DecisionTreeClassifier(class_weight=None, criterion='gini', max_depth=None,\n",
       "                       max_features=None, max_leaf_nodes=None,\n",
       "                       min_impurity_decrease=0.0, min_impurity_split=None,\n",
       "                       min_samples_leaf=1, min_samples_split=2,\n",
       "                       min_weight_fraction_leaf=0.0, presort=False,\n",
       "                       random_state=None, splitter='best')"
      ]
     },
     "execution_count": 185,
     "metadata": {},
     "output_type": "execute_result"
    }
   ],
   "source": [
    "from sklearn import tree\n",
    "\n",
    "clf = tree.DecisionTreeClassifier()\n",
    "clf.fit(X_train, y_train)\n"
   ]
  },
  {
   "cell_type": "code",
   "execution_count": 186,
   "metadata": {},
   "outputs": [
    {
     "name": "stdout",
     "output_type": "stream",
     "text": [
      "Accuracy: 0.9978120681713496\n"
     ]
    }
   ],
   "source": [
    "from sklearn import metrics\n",
    "\n",
    "prediction = clf.predict(X_test)\n",
    "print(\"Accuracy:\",metrics.accuracy_score(y_test, prediction))"
   ]
  },
  {
   "cell_type": "code",
   "execution_count": 187,
   "metadata": {},
   "outputs": [
    {
     "name": "stdout",
     "output_type": "stream",
     "text": [
      "[[   1    8]\n",
      " [  11 8664]]\n",
      "Accuracy: 0.9976969138645785\n"
     ]
    }
   ],
   "source": [
    "from sklearn.metrics import confusion_matrix\n",
    "\n",
    "print(confusion_matrix(y_test,prediction))\n",
    "print(\"Accuracy:\",(1+8663)/(1+8+12+8663))"
   ]
  },
  {
   "cell_type": "code",
   "execution_count": null,
   "metadata": {},
   "outputs": [],
   "source": []
  },
  {
   "cell_type": "markdown",
   "metadata": {},
   "source": [
    "# A9. Investigating daily relative humidity (RH)\n"
   ]
  },
  {
   "cell_type": "code",
   "execution_count": 209,
   "metadata": {},
   "outputs": [
    {
     "data": {
      "text/html": [
       "<div>\n",
       "<style scoped>\n",
       "    .dataframe tbody tr th:only-of-type {\n",
       "        vertical-align: middle;\n",
       "    }\n",
       "\n",
       "    .dataframe tbody tr th {\n",
       "        vertical-align: top;\n",
       "    }\n",
       "\n",
       "    .dataframe thead th {\n",
       "        text-align: right;\n",
       "    }\n",
       "</style>\n",
       "<table border=\"1\" class=\"dataframe\">\n",
       "  <thead>\n",
       "    <tr style=\"text-align: right;\">\n",
       "      <th></th>\n",
       "      <th>Timestamp</th>\n",
       "      <th>YYYYMMDD</th>\n",
       "      <th>HHMMSS</th>\n",
       "      <th>PREC</th>\n",
       "      <th>AIRT</th>\n",
       "      <th>SST</th>\n",
       "      <th>RH</th>\n",
       "      <th>Q</th>\n",
       "      <th>Month</th>\n",
       "      <th>Day</th>\n",
       "    </tr>\n",
       "  </thead>\n",
       "  <tbody>\n",
       "    <tr>\n",
       "      <th>0</th>\n",
       "      <td>0</td>\n",
       "      <td>2006-01-01</td>\n",
       "      <td>0</td>\n",
       "      <td>0.00</td>\n",
       "      <td>28.75</td>\n",
       "      <td>29.690</td>\n",
       "      <td>79.8</td>\n",
       "      <td>1</td>\n",
       "      <td>1</td>\n",
       "      <td>1</td>\n",
       "    </tr>\n",
       "    <tr>\n",
       "      <th>1</th>\n",
       "      <td>1</td>\n",
       "      <td>2006-01-01</td>\n",
       "      <td>1000</td>\n",
       "      <td>0.00</td>\n",
       "      <td>28.86</td>\n",
       "      <td>29.708</td>\n",
       "      <td>79.2</td>\n",
       "      <td>1</td>\n",
       "      <td>1</td>\n",
       "      <td>1</td>\n",
       "    </tr>\n",
       "    <tr>\n",
       "      <th>2</th>\n",
       "      <td>2</td>\n",
       "      <td>2006-01-01</td>\n",
       "      <td>2000</td>\n",
       "      <td>0.00</td>\n",
       "      <td>28.91</td>\n",
       "      <td>29.749</td>\n",
       "      <td>79.4</td>\n",
       "      <td>1</td>\n",
       "      <td>1</td>\n",
       "      <td>1</td>\n",
       "    </tr>\n",
       "    <tr>\n",
       "      <th>3</th>\n",
       "      <td>3</td>\n",
       "      <td>2006-01-01</td>\n",
       "      <td>3000</td>\n",
       "      <td>0.00</td>\n",
       "      <td>28.85</td>\n",
       "      <td>29.757</td>\n",
       "      <td>78.4</td>\n",
       "      <td>1</td>\n",
       "      <td>1</td>\n",
       "      <td>1</td>\n",
       "    </tr>\n",
       "    <tr>\n",
       "      <th>4</th>\n",
       "      <td>4</td>\n",
       "      <td>2006-01-01</td>\n",
       "      <td>4000</td>\n",
       "      <td>0.00</td>\n",
       "      <td>28.87</td>\n",
       "      <td>29.787</td>\n",
       "      <td>77.8</td>\n",
       "      <td>1</td>\n",
       "      <td>1</td>\n",
       "      <td>1</td>\n",
       "    </tr>\n",
       "    <tr>\n",
       "      <th>5</th>\n",
       "      <td>5</td>\n",
       "      <td>2006-01-01</td>\n",
       "      <td>5000</td>\n",
       "      <td>0.00</td>\n",
       "      <td>28.71</td>\n",
       "      <td>29.793</td>\n",
       "      <td>78.2</td>\n",
       "      <td>1</td>\n",
       "      <td>1</td>\n",
       "      <td>1</td>\n",
       "    </tr>\n",
       "    <tr>\n",
       "      <th>6</th>\n",
       "      <td>6</td>\n",
       "      <td>2006-01-01</td>\n",
       "      <td>10000</td>\n",
       "      <td>0.00</td>\n",
       "      <td>28.66</td>\n",
       "      <td>29.803</td>\n",
       "      <td>77.5</td>\n",
       "      <td>1</td>\n",
       "      <td>1</td>\n",
       "      <td>1</td>\n",
       "    </tr>\n",
       "    <tr>\n",
       "      <th>7</th>\n",
       "      <td>7</td>\n",
       "      <td>2006-01-01</td>\n",
       "      <td>11000</td>\n",
       "      <td>0.01</td>\n",
       "      <td>28.64</td>\n",
       "      <td>29.815</td>\n",
       "      <td>77.5</td>\n",
       "      <td>1</td>\n",
       "      <td>1</td>\n",
       "      <td>1</td>\n",
       "    </tr>\n",
       "    <tr>\n",
       "      <th>8</th>\n",
       "      <td>8</td>\n",
       "      <td>2006-01-01</td>\n",
       "      <td>12000</td>\n",
       "      <td>0.00</td>\n",
       "      <td>28.64</td>\n",
       "      <td>29.788</td>\n",
       "      <td>78.3</td>\n",
       "      <td>1</td>\n",
       "      <td>1</td>\n",
       "      <td>1</td>\n",
       "    </tr>\n",
       "    <tr>\n",
       "      <th>9</th>\n",
       "      <td>9</td>\n",
       "      <td>2006-01-01</td>\n",
       "      <td>13000</td>\n",
       "      <td>0.00</td>\n",
       "      <td>28.63</td>\n",
       "      <td>29.760</td>\n",
       "      <td>79.6</td>\n",
       "      <td>1</td>\n",
       "      <td>1</td>\n",
       "      <td>1</td>\n",
       "    </tr>\n",
       "    <tr>\n",
       "      <th>10</th>\n",
       "      <td>10</td>\n",
       "      <td>2006-01-01</td>\n",
       "      <td>14000</td>\n",
       "      <td>0.00</td>\n",
       "      <td>28.74</td>\n",
       "      <td>29.786</td>\n",
       "      <td>79.6</td>\n",
       "      <td>1</td>\n",
       "      <td>1</td>\n",
       "      <td>1</td>\n",
       "    </tr>\n",
       "    <tr>\n",
       "      <th>11</th>\n",
       "      <td>11</td>\n",
       "      <td>2006-01-01</td>\n",
       "      <td>15000</td>\n",
       "      <td>0.00</td>\n",
       "      <td>28.50</td>\n",
       "      <td>29.783</td>\n",
       "      <td>81.4</td>\n",
       "      <td>1</td>\n",
       "      <td>1</td>\n",
       "      <td>1</td>\n",
       "    </tr>\n",
       "    <tr>\n",
       "      <th>12</th>\n",
       "      <td>12</td>\n",
       "      <td>2006-01-01</td>\n",
       "      <td>20000</td>\n",
       "      <td>0.00</td>\n",
       "      <td>28.08</td>\n",
       "      <td>29.782</td>\n",
       "      <td>81.6</td>\n",
       "      <td>1</td>\n",
       "      <td>1</td>\n",
       "      <td>1</td>\n",
       "    </tr>\n",
       "    <tr>\n",
       "      <th>13</th>\n",
       "      <td>13</td>\n",
       "      <td>2006-01-01</td>\n",
       "      <td>21000</td>\n",
       "      <td>0.00</td>\n",
       "      <td>28.24</td>\n",
       "      <td>29.748</td>\n",
       "      <td>81.3</td>\n",
       "      <td>1</td>\n",
       "      <td>1</td>\n",
       "      <td>1</td>\n",
       "    </tr>\n",
       "    <tr>\n",
       "      <th>14</th>\n",
       "      <td>14</td>\n",
       "      <td>2006-01-01</td>\n",
       "      <td>22000</td>\n",
       "      <td>0.00</td>\n",
       "      <td>28.39</td>\n",
       "      <td>29.747</td>\n",
       "      <td>79.6</td>\n",
       "      <td>1</td>\n",
       "      <td>1</td>\n",
       "      <td>1</td>\n",
       "    </tr>\n",
       "    <tr>\n",
       "      <th>15</th>\n",
       "      <td>15</td>\n",
       "      <td>2006-01-01</td>\n",
       "      <td>23000</td>\n",
       "      <td>0.00</td>\n",
       "      <td>28.56</td>\n",
       "      <td>29.806</td>\n",
       "      <td>78.5</td>\n",
       "      <td>1</td>\n",
       "      <td>1</td>\n",
       "      <td>1</td>\n",
       "    </tr>\n",
       "    <tr>\n",
       "      <th>16</th>\n",
       "      <td>16</td>\n",
       "      <td>2006-01-01</td>\n",
       "      <td>24000</td>\n",
       "      <td>0.00</td>\n",
       "      <td>28.76</td>\n",
       "      <td>29.805</td>\n",
       "      <td>78.8</td>\n",
       "      <td>1</td>\n",
       "      <td>1</td>\n",
       "      <td>1</td>\n",
       "    </tr>\n",
       "    <tr>\n",
       "      <th>17</th>\n",
       "      <td>17</td>\n",
       "      <td>2006-01-01</td>\n",
       "      <td>25000</td>\n",
       "      <td>0.00</td>\n",
       "      <td>28.70</td>\n",
       "      <td>29.861</td>\n",
       "      <td>78.7</td>\n",
       "      <td>1</td>\n",
       "      <td>1</td>\n",
       "      <td>1</td>\n",
       "    </tr>\n",
       "    <tr>\n",
       "      <th>18</th>\n",
       "      <td>18</td>\n",
       "      <td>2006-01-01</td>\n",
       "      <td>30000</td>\n",
       "      <td>0.00</td>\n",
       "      <td>28.75</td>\n",
       "      <td>29.885</td>\n",
       "      <td>78.6</td>\n",
       "      <td>1</td>\n",
       "      <td>1</td>\n",
       "      <td>1</td>\n",
       "    </tr>\n",
       "    <tr>\n",
       "      <th>19</th>\n",
       "      <td>19</td>\n",
       "      <td>2006-01-01</td>\n",
       "      <td>31000</td>\n",
       "      <td>0.00</td>\n",
       "      <td>28.82</td>\n",
       "      <td>29.844</td>\n",
       "      <td>78.9</td>\n",
       "      <td>1</td>\n",
       "      <td>1</td>\n",
       "      <td>1</td>\n",
       "    </tr>\n",
       "    <tr>\n",
       "      <th>20</th>\n",
       "      <td>20</td>\n",
       "      <td>2006-01-01</td>\n",
       "      <td>32000</td>\n",
       "      <td>0.00</td>\n",
       "      <td>28.79</td>\n",
       "      <td>29.842</td>\n",
       "      <td>78.5</td>\n",
       "      <td>1</td>\n",
       "      <td>1</td>\n",
       "      <td>1</td>\n",
       "    </tr>\n",
       "    <tr>\n",
       "      <th>21</th>\n",
       "      <td>21</td>\n",
       "      <td>2006-01-01</td>\n",
       "      <td>33000</td>\n",
       "      <td>0.00</td>\n",
       "      <td>28.80</td>\n",
       "      <td>29.866</td>\n",
       "      <td>79.4</td>\n",
       "      <td>1</td>\n",
       "      <td>1</td>\n",
       "      <td>1</td>\n",
       "    </tr>\n",
       "    <tr>\n",
       "      <th>22</th>\n",
       "      <td>22</td>\n",
       "      <td>2006-01-01</td>\n",
       "      <td>34000</td>\n",
       "      <td>0.00</td>\n",
       "      <td>28.75</td>\n",
       "      <td>29.882</td>\n",
       "      <td>80.4</td>\n",
       "      <td>1</td>\n",
       "      <td>1</td>\n",
       "      <td>1</td>\n",
       "    </tr>\n",
       "    <tr>\n",
       "      <th>23</th>\n",
       "      <td>23</td>\n",
       "      <td>2006-01-01</td>\n",
       "      <td>35000</td>\n",
       "      <td>0.00</td>\n",
       "      <td>28.61</td>\n",
       "      <td>29.901</td>\n",
       "      <td>78.2</td>\n",
       "      <td>1</td>\n",
       "      <td>1</td>\n",
       "      <td>1</td>\n",
       "    </tr>\n",
       "    <tr>\n",
       "      <th>24</th>\n",
       "      <td>24</td>\n",
       "      <td>2006-01-01</td>\n",
       "      <td>40000</td>\n",
       "      <td>0.00</td>\n",
       "      <td>28.75</td>\n",
       "      <td>29.902</td>\n",
       "      <td>78.5</td>\n",
       "      <td>1</td>\n",
       "      <td>1</td>\n",
       "      <td>1</td>\n",
       "    </tr>\n",
       "    <tr>\n",
       "      <th>25</th>\n",
       "      <td>25</td>\n",
       "      <td>2006-01-01</td>\n",
       "      <td>41000</td>\n",
       "      <td>0.00</td>\n",
       "      <td>28.74</td>\n",
       "      <td>29.829</td>\n",
       "      <td>76.8</td>\n",
       "      <td>1</td>\n",
       "      <td>1</td>\n",
       "      <td>1</td>\n",
       "    </tr>\n",
       "    <tr>\n",
       "      <th>26</th>\n",
       "      <td>26</td>\n",
       "      <td>2006-01-01</td>\n",
       "      <td>42000</td>\n",
       "      <td>0.01</td>\n",
       "      <td>28.89</td>\n",
       "      <td>29.826</td>\n",
       "      <td>77.4</td>\n",
       "      <td>1</td>\n",
       "      <td>1</td>\n",
       "      <td>1</td>\n",
       "    </tr>\n",
       "    <tr>\n",
       "      <th>27</th>\n",
       "      <td>27</td>\n",
       "      <td>2006-01-01</td>\n",
       "      <td>43000</td>\n",
       "      <td>0.00</td>\n",
       "      <td>28.91</td>\n",
       "      <td>29.774</td>\n",
       "      <td>78.3</td>\n",
       "      <td>1</td>\n",
       "      <td>1</td>\n",
       "      <td>1</td>\n",
       "    </tr>\n",
       "    <tr>\n",
       "      <th>28</th>\n",
       "      <td>28</td>\n",
       "      <td>2006-01-01</td>\n",
       "      <td>44000</td>\n",
       "      <td>0.00</td>\n",
       "      <td>28.89</td>\n",
       "      <td>29.832</td>\n",
       "      <td>78.6</td>\n",
       "      <td>1</td>\n",
       "      <td>1</td>\n",
       "      <td>1</td>\n",
       "    </tr>\n",
       "    <tr>\n",
       "      <th>29</th>\n",
       "      <td>29</td>\n",
       "      <td>2006-01-01</td>\n",
       "      <td>45000</td>\n",
       "      <td>0.00</td>\n",
       "      <td>28.94</td>\n",
       "      <td>29.803</td>\n",
       "      <td>77.7</td>\n",
       "      <td>1</td>\n",
       "      <td>1</td>\n",
       "      <td>1</td>\n",
       "    </tr>\n",
       "    <tr>\n",
       "      <th>...</th>\n",
       "      <td>...</td>\n",
       "      <td>...</td>\n",
       "      <td>...</td>\n",
       "      <td>...</td>\n",
       "      <td>...</td>\n",
       "      <td>...</td>\n",
       "      <td>...</td>\n",
       "      <td>...</td>\n",
       "      <td>...</td>\n",
       "      <td>...</td>\n",
       "    </tr>\n",
       "    <tr>\n",
       "      <th>35106</th>\n",
       "      <td>35106</td>\n",
       "      <td>2006-09-01</td>\n",
       "      <td>190000</td>\n",
       "      <td>0.01</td>\n",
       "      <td>28.68</td>\n",
       "      <td>29.585</td>\n",
       "      <td>77.2</td>\n",
       "      <td>1</td>\n",
       "      <td>9</td>\n",
       "      <td>1</td>\n",
       "    </tr>\n",
       "    <tr>\n",
       "      <th>35107</th>\n",
       "      <td>35107</td>\n",
       "      <td>2006-09-01</td>\n",
       "      <td>191000</td>\n",
       "      <td>0.00</td>\n",
       "      <td>28.70</td>\n",
       "      <td>29.571</td>\n",
       "      <td>77.9</td>\n",
       "      <td>1</td>\n",
       "      <td>9</td>\n",
       "      <td>1</td>\n",
       "    </tr>\n",
       "    <tr>\n",
       "      <th>35108</th>\n",
       "      <td>35108</td>\n",
       "      <td>2006-09-01</td>\n",
       "      <td>192000</td>\n",
       "      <td>0.01</td>\n",
       "      <td>28.76</td>\n",
       "      <td>29.569</td>\n",
       "      <td>76.7</td>\n",
       "      <td>1</td>\n",
       "      <td>9</td>\n",
       "      <td>1</td>\n",
       "    </tr>\n",
       "    <tr>\n",
       "      <th>35109</th>\n",
       "      <td>35109</td>\n",
       "      <td>2006-09-01</td>\n",
       "      <td>193000</td>\n",
       "      <td>0.00</td>\n",
       "      <td>28.86</td>\n",
       "      <td>29.574</td>\n",
       "      <td>76.0</td>\n",
       "      <td>1</td>\n",
       "      <td>9</td>\n",
       "      <td>1</td>\n",
       "    </tr>\n",
       "    <tr>\n",
       "      <th>35110</th>\n",
       "      <td>35110</td>\n",
       "      <td>2006-09-01</td>\n",
       "      <td>194000</td>\n",
       "      <td>0.01</td>\n",
       "      <td>28.98</td>\n",
       "      <td>29.564</td>\n",
       "      <td>76.1</td>\n",
       "      <td>1</td>\n",
       "      <td>9</td>\n",
       "      <td>1</td>\n",
       "    </tr>\n",
       "    <tr>\n",
       "      <th>35111</th>\n",
       "      <td>35111</td>\n",
       "      <td>2006-09-01</td>\n",
       "      <td>195000</td>\n",
       "      <td>0.03</td>\n",
       "      <td>29.26</td>\n",
       "      <td>29.555</td>\n",
       "      <td>73.8</td>\n",
       "      <td>1</td>\n",
       "      <td>9</td>\n",
       "      <td>1</td>\n",
       "    </tr>\n",
       "    <tr>\n",
       "      <th>35112</th>\n",
       "      <td>35112</td>\n",
       "      <td>2006-09-01</td>\n",
       "      <td>200000</td>\n",
       "      <td>0.05</td>\n",
       "      <td>29.29</td>\n",
       "      <td>29.555</td>\n",
       "      <td>74.9</td>\n",
       "      <td>1</td>\n",
       "      <td>9</td>\n",
       "      <td>1</td>\n",
       "    </tr>\n",
       "    <tr>\n",
       "      <th>35113</th>\n",
       "      <td>35113</td>\n",
       "      <td>2006-09-01</td>\n",
       "      <td>201000</td>\n",
       "      <td>0.55</td>\n",
       "      <td>29.51</td>\n",
       "      <td>29.553</td>\n",
       "      <td>74.2</td>\n",
       "      <td>1</td>\n",
       "      <td>9</td>\n",
       "      <td>1</td>\n",
       "    </tr>\n",
       "    <tr>\n",
       "      <th>35114</th>\n",
       "      <td>35114</td>\n",
       "      <td>2006-09-01</td>\n",
       "      <td>202000</td>\n",
       "      <td>0.00</td>\n",
       "      <td>29.39</td>\n",
       "      <td>29.546</td>\n",
       "      <td>74.5</td>\n",
       "      <td>1</td>\n",
       "      <td>9</td>\n",
       "      <td>1</td>\n",
       "    </tr>\n",
       "    <tr>\n",
       "      <th>35115</th>\n",
       "      <td>35115</td>\n",
       "      <td>2006-09-01</td>\n",
       "      <td>203000</td>\n",
       "      <td>0.00</td>\n",
       "      <td>29.26</td>\n",
       "      <td>29.543</td>\n",
       "      <td>74.0</td>\n",
       "      <td>1</td>\n",
       "      <td>9</td>\n",
       "      <td>1</td>\n",
       "    </tr>\n",
       "    <tr>\n",
       "      <th>35116</th>\n",
       "      <td>35116</td>\n",
       "      <td>2006-09-01</td>\n",
       "      <td>204000</td>\n",
       "      <td>0.00</td>\n",
       "      <td>29.10</td>\n",
       "      <td>29.545</td>\n",
       "      <td>76.0</td>\n",
       "      <td>1</td>\n",
       "      <td>9</td>\n",
       "      <td>1</td>\n",
       "    </tr>\n",
       "    <tr>\n",
       "      <th>35117</th>\n",
       "      <td>35117</td>\n",
       "      <td>2006-09-01</td>\n",
       "      <td>205000</td>\n",
       "      <td>1.31</td>\n",
       "      <td>29.15</td>\n",
       "      <td>29.541</td>\n",
       "      <td>73.4</td>\n",
       "      <td>1</td>\n",
       "      <td>9</td>\n",
       "      <td>1</td>\n",
       "    </tr>\n",
       "    <tr>\n",
       "      <th>35118</th>\n",
       "      <td>35118</td>\n",
       "      <td>2006-09-01</td>\n",
       "      <td>210000</td>\n",
       "      <td>0.29</td>\n",
       "      <td>29.46</td>\n",
       "      <td>29.548</td>\n",
       "      <td>73.6</td>\n",
       "      <td>1</td>\n",
       "      <td>9</td>\n",
       "      <td>1</td>\n",
       "    </tr>\n",
       "    <tr>\n",
       "      <th>35119</th>\n",
       "      <td>35119</td>\n",
       "      <td>2006-09-01</td>\n",
       "      <td>211000</td>\n",
       "      <td>0.00</td>\n",
       "      <td>29.47</td>\n",
       "      <td>29.547</td>\n",
       "      <td>74.1</td>\n",
       "      <td>1</td>\n",
       "      <td>9</td>\n",
       "      <td>1</td>\n",
       "    </tr>\n",
       "    <tr>\n",
       "      <th>35120</th>\n",
       "      <td>35120</td>\n",
       "      <td>2006-09-01</td>\n",
       "      <td>212000</td>\n",
       "      <td>0.00</td>\n",
       "      <td>29.38</td>\n",
       "      <td>29.548</td>\n",
       "      <td>72.2</td>\n",
       "      <td>1</td>\n",
       "      <td>9</td>\n",
       "      <td>1</td>\n",
       "    </tr>\n",
       "    <tr>\n",
       "      <th>35121</th>\n",
       "      <td>35121</td>\n",
       "      <td>2006-09-01</td>\n",
       "      <td>213000</td>\n",
       "      <td>0.00</td>\n",
       "      <td>29.41</td>\n",
       "      <td>29.557</td>\n",
       "      <td>71.8</td>\n",
       "      <td>1</td>\n",
       "      <td>9</td>\n",
       "      <td>1</td>\n",
       "    </tr>\n",
       "    <tr>\n",
       "      <th>35122</th>\n",
       "      <td>35122</td>\n",
       "      <td>2006-09-01</td>\n",
       "      <td>214000</td>\n",
       "      <td>0.56</td>\n",
       "      <td>29.34</td>\n",
       "      <td>29.571</td>\n",
       "      <td>71.2</td>\n",
       "      <td>1</td>\n",
       "      <td>9</td>\n",
       "      <td>1</td>\n",
       "    </tr>\n",
       "    <tr>\n",
       "      <th>35123</th>\n",
       "      <td>35123</td>\n",
       "      <td>2006-09-01</td>\n",
       "      <td>215000</td>\n",
       "      <td>0.00</td>\n",
       "      <td>29.38</td>\n",
       "      <td>29.585</td>\n",
       "      <td>72.1</td>\n",
       "      <td>1</td>\n",
       "      <td>9</td>\n",
       "      <td>1</td>\n",
       "    </tr>\n",
       "    <tr>\n",
       "      <th>35124</th>\n",
       "      <td>35124</td>\n",
       "      <td>2006-09-01</td>\n",
       "      <td>220000</td>\n",
       "      <td>0.75</td>\n",
       "      <td>29.35</td>\n",
       "      <td>29.586</td>\n",
       "      <td>72.8</td>\n",
       "      <td>1</td>\n",
       "      <td>9</td>\n",
       "      <td>1</td>\n",
       "    </tr>\n",
       "    <tr>\n",
       "      <th>35125</th>\n",
       "      <td>35125</td>\n",
       "      <td>2006-09-01</td>\n",
       "      <td>221000</td>\n",
       "      <td>0.00</td>\n",
       "      <td>29.28</td>\n",
       "      <td>29.592</td>\n",
       "      <td>74.0</td>\n",
       "      <td>1</td>\n",
       "      <td>9</td>\n",
       "      <td>1</td>\n",
       "    </tr>\n",
       "    <tr>\n",
       "      <th>35126</th>\n",
       "      <td>35126</td>\n",
       "      <td>2006-09-01</td>\n",
       "      <td>222000</td>\n",
       "      <td>0.72</td>\n",
       "      <td>29.25</td>\n",
       "      <td>29.630</td>\n",
       "      <td>72.4</td>\n",
       "      <td>1</td>\n",
       "      <td>9</td>\n",
       "      <td>1</td>\n",
       "    </tr>\n",
       "    <tr>\n",
       "      <th>35127</th>\n",
       "      <td>35127</td>\n",
       "      <td>2006-09-01</td>\n",
       "      <td>223000</td>\n",
       "      <td>0.00</td>\n",
       "      <td>29.32</td>\n",
       "      <td>29.660</td>\n",
       "      <td>72.7</td>\n",
       "      <td>1</td>\n",
       "      <td>9</td>\n",
       "      <td>1</td>\n",
       "    </tr>\n",
       "    <tr>\n",
       "      <th>35128</th>\n",
       "      <td>35128</td>\n",
       "      <td>2006-09-01</td>\n",
       "      <td>224000</td>\n",
       "      <td>0.00</td>\n",
       "      <td>29.23</td>\n",
       "      <td>29.636</td>\n",
       "      <td>74.6</td>\n",
       "      <td>1</td>\n",
       "      <td>9</td>\n",
       "      <td>1</td>\n",
       "    </tr>\n",
       "    <tr>\n",
       "      <th>35129</th>\n",
       "      <td>35129</td>\n",
       "      <td>2006-09-01</td>\n",
       "      <td>225000</td>\n",
       "      <td>0.04</td>\n",
       "      <td>29.24</td>\n",
       "      <td>29.669</td>\n",
       "      <td>73.9</td>\n",
       "      <td>1</td>\n",
       "      <td>9</td>\n",
       "      <td>1</td>\n",
       "    </tr>\n",
       "    <tr>\n",
       "      <th>35130</th>\n",
       "      <td>35130</td>\n",
       "      <td>2006-09-01</td>\n",
       "      <td>230000</td>\n",
       "      <td>0.23</td>\n",
       "      <td>29.32</td>\n",
       "      <td>29.687</td>\n",
       "      <td>74.5</td>\n",
       "      <td>1</td>\n",
       "      <td>9</td>\n",
       "      <td>1</td>\n",
       "    </tr>\n",
       "    <tr>\n",
       "      <th>35131</th>\n",
       "      <td>35131</td>\n",
       "      <td>2006-09-01</td>\n",
       "      <td>231000</td>\n",
       "      <td>0.40</td>\n",
       "      <td>29.20</td>\n",
       "      <td>29.680</td>\n",
       "      <td>75.6</td>\n",
       "      <td>1</td>\n",
       "      <td>9</td>\n",
       "      <td>1</td>\n",
       "    </tr>\n",
       "    <tr>\n",
       "      <th>35132</th>\n",
       "      <td>35132</td>\n",
       "      <td>2006-09-01</td>\n",
       "      <td>232000</td>\n",
       "      <td>0.00</td>\n",
       "      <td>29.25</td>\n",
       "      <td>29.686</td>\n",
       "      <td>75.4</td>\n",
       "      <td>1</td>\n",
       "      <td>9</td>\n",
       "      <td>1</td>\n",
       "    </tr>\n",
       "    <tr>\n",
       "      <th>35133</th>\n",
       "      <td>35133</td>\n",
       "      <td>2006-09-01</td>\n",
       "      <td>233000</td>\n",
       "      <td>0.00</td>\n",
       "      <td>29.15</td>\n",
       "      <td>29.697</td>\n",
       "      <td>75.2</td>\n",
       "      <td>1</td>\n",
       "      <td>9</td>\n",
       "      <td>1</td>\n",
       "    </tr>\n",
       "    <tr>\n",
       "      <th>35134</th>\n",
       "      <td>35134</td>\n",
       "      <td>2006-09-01</td>\n",
       "      <td>234000</td>\n",
       "      <td>0.00</td>\n",
       "      <td>29.18</td>\n",
       "      <td>29.704</td>\n",
       "      <td>74.2</td>\n",
       "      <td>1</td>\n",
       "      <td>9</td>\n",
       "      <td>1</td>\n",
       "    </tr>\n",
       "    <tr>\n",
       "      <th>35135</th>\n",
       "      <td>35135</td>\n",
       "      <td>2006-09-01</td>\n",
       "      <td>235000</td>\n",
       "      <td>0.12</td>\n",
       "      <td>29.20</td>\n",
       "      <td>29.718</td>\n",
       "      <td>74.9</td>\n",
       "      <td>1</td>\n",
       "      <td>9</td>\n",
       "      <td>1</td>\n",
       "    </tr>\n",
       "  </tbody>\n",
       "</table>\n",
       "<p>34735 rows × 10 columns</p>\n",
       "</div>"
      ],
      "text/plain": [
       "       Timestamp   YYYYMMDD  HHMMSS  PREC   AIRT     SST    RH  Q  Month  Day\n",
       "0              0 2006-01-01       0  0.00  28.75  29.690  79.8  1      1    1\n",
       "1              1 2006-01-01    1000  0.00  28.86  29.708  79.2  1      1    1\n",
       "2              2 2006-01-01    2000  0.00  28.91  29.749  79.4  1      1    1\n",
       "3              3 2006-01-01    3000  0.00  28.85  29.757  78.4  1      1    1\n",
       "4              4 2006-01-01    4000  0.00  28.87  29.787  77.8  1      1    1\n",
       "5              5 2006-01-01    5000  0.00  28.71  29.793  78.2  1      1    1\n",
       "6              6 2006-01-01   10000  0.00  28.66  29.803  77.5  1      1    1\n",
       "7              7 2006-01-01   11000  0.01  28.64  29.815  77.5  1      1    1\n",
       "8              8 2006-01-01   12000  0.00  28.64  29.788  78.3  1      1    1\n",
       "9              9 2006-01-01   13000  0.00  28.63  29.760  79.6  1      1    1\n",
       "10            10 2006-01-01   14000  0.00  28.74  29.786  79.6  1      1    1\n",
       "11            11 2006-01-01   15000  0.00  28.50  29.783  81.4  1      1    1\n",
       "12            12 2006-01-01   20000  0.00  28.08  29.782  81.6  1      1    1\n",
       "13            13 2006-01-01   21000  0.00  28.24  29.748  81.3  1      1    1\n",
       "14            14 2006-01-01   22000  0.00  28.39  29.747  79.6  1      1    1\n",
       "15            15 2006-01-01   23000  0.00  28.56  29.806  78.5  1      1    1\n",
       "16            16 2006-01-01   24000  0.00  28.76  29.805  78.8  1      1    1\n",
       "17            17 2006-01-01   25000  0.00  28.70  29.861  78.7  1      1    1\n",
       "18            18 2006-01-01   30000  0.00  28.75  29.885  78.6  1      1    1\n",
       "19            19 2006-01-01   31000  0.00  28.82  29.844  78.9  1      1    1\n",
       "20            20 2006-01-01   32000  0.00  28.79  29.842  78.5  1      1    1\n",
       "21            21 2006-01-01   33000  0.00  28.80  29.866  79.4  1      1    1\n",
       "22            22 2006-01-01   34000  0.00  28.75  29.882  80.4  1      1    1\n",
       "23            23 2006-01-01   35000  0.00  28.61  29.901  78.2  1      1    1\n",
       "24            24 2006-01-01   40000  0.00  28.75  29.902  78.5  1      1    1\n",
       "25            25 2006-01-01   41000  0.00  28.74  29.829  76.8  1      1    1\n",
       "26            26 2006-01-01   42000  0.01  28.89  29.826  77.4  1      1    1\n",
       "27            27 2006-01-01   43000  0.00  28.91  29.774  78.3  1      1    1\n",
       "28            28 2006-01-01   44000  0.00  28.89  29.832  78.6  1      1    1\n",
       "29            29 2006-01-01   45000  0.00  28.94  29.803  77.7  1      1    1\n",
       "...          ...        ...     ...   ...    ...     ...   ... ..    ...  ...\n",
       "35106      35106 2006-09-01  190000  0.01  28.68  29.585  77.2  1      9    1\n",
       "35107      35107 2006-09-01  191000  0.00  28.70  29.571  77.9  1      9    1\n",
       "35108      35108 2006-09-01  192000  0.01  28.76  29.569  76.7  1      9    1\n",
       "35109      35109 2006-09-01  193000  0.00  28.86  29.574  76.0  1      9    1\n",
       "35110      35110 2006-09-01  194000  0.01  28.98  29.564  76.1  1      9    1\n",
       "35111      35111 2006-09-01  195000  0.03  29.26  29.555  73.8  1      9    1\n",
       "35112      35112 2006-09-01  200000  0.05  29.29  29.555  74.9  1      9    1\n",
       "35113      35113 2006-09-01  201000  0.55  29.51  29.553  74.2  1      9    1\n",
       "35114      35114 2006-09-01  202000  0.00  29.39  29.546  74.5  1      9    1\n",
       "35115      35115 2006-09-01  203000  0.00  29.26  29.543  74.0  1      9    1\n",
       "35116      35116 2006-09-01  204000  0.00  29.10  29.545  76.0  1      9    1\n",
       "35117      35117 2006-09-01  205000  1.31  29.15  29.541  73.4  1      9    1\n",
       "35118      35118 2006-09-01  210000  0.29  29.46  29.548  73.6  1      9    1\n",
       "35119      35119 2006-09-01  211000  0.00  29.47  29.547  74.1  1      9    1\n",
       "35120      35120 2006-09-01  212000  0.00  29.38  29.548  72.2  1      9    1\n",
       "35121      35121 2006-09-01  213000  0.00  29.41  29.557  71.8  1      9    1\n",
       "35122      35122 2006-09-01  214000  0.56  29.34  29.571  71.2  1      9    1\n",
       "35123      35123 2006-09-01  215000  0.00  29.38  29.585  72.1  1      9    1\n",
       "35124      35124 2006-09-01  220000  0.75  29.35  29.586  72.8  1      9    1\n",
       "35125      35125 2006-09-01  221000  0.00  29.28  29.592  74.0  1      9    1\n",
       "35126      35126 2006-09-01  222000  0.72  29.25  29.630  72.4  1      9    1\n",
       "35127      35127 2006-09-01  223000  0.00  29.32  29.660  72.7  1      9    1\n",
       "35128      35128 2006-09-01  224000  0.00  29.23  29.636  74.6  1      9    1\n",
       "35129      35129 2006-09-01  225000  0.04  29.24  29.669  73.9  1      9    1\n",
       "35130      35130 2006-09-01  230000  0.23  29.32  29.687  74.5  1      9    1\n",
       "35131      35131 2006-09-01  231000  0.40  29.20  29.680  75.6  1      9    1\n",
       "35132      35132 2006-09-01  232000  0.00  29.25  29.686  75.4  1      9    1\n",
       "35133      35133 2006-09-01  233000  0.00  29.15  29.697  75.2  1      9    1\n",
       "35134      35134 2006-09-01  234000  0.00  29.18  29.704  74.2  1      9    1\n",
       "35135      35135 2006-09-01  235000  0.12  29.20  29.718  74.9  1      9    1\n",
       "\n",
       "[34735 rows x 10 columns]"
      ]
     },
     "execution_count": 209,
     "metadata": {},
     "output_type": "execute_result"
    }
   ],
   "source": [
    "trop_atmos['Day']=trop_atmos['YYYYMMDD'].dt.day\n",
    "trop_atmos\n"
   ]
  },
  {
   "cell_type": "code",
   "execution_count": null,
   "metadata": {},
   "outputs": [],
   "source": []
  },
  {
   "cell_type": "code",
   "execution_count": 210,
   "metadata": {},
   "outputs": [
    {
     "data": {
      "image/png": "[encoded data removed]",
      "text/plain": [
       "<Figure size 432x288 with 1 Axes>"
      ]
     },
     "metadata": {
      "needs_background": "light"
     },
     "output_type": "display_data"
    }
   ],
   "source": [
    "from sklearn.linear_model import LinearRegression\n",
    "import numpy as np\n",
    "\n",
    "x=trop_atmos['Day']\n",
    "y=trop_atmos['RH']\n",
    "\n",
    "x = x[:, np.newaxis]\n",
    "y = y[:, np.newaxis]\n",
    "\n",
    "model = LinearRegression()\n",
    "model.fit(x, y)\n",
    "y_pred = model.predict(x)\n",
    "\n",
    "\n",
    "plt.scatter(x, y)\n",
    "plt.plot(x, y_pred, color='r')\n",
    "plt.show()"
   ]
  },
  {
   "cell_type": "code",
   "execution_count": null,
   "metadata": {},
   "outputs": [],
   "source": []
  },
  {
   "cell_type": "code",
   "execution_count": null,
   "metadata": {},
   "outputs": [],
   "source": []
  }
 ],
 "metadata": {
  "kernelspec": {
   "display_name": "Python 3",
   "language": "python",
   "name": "python3"
  },
  "language_info": {
   "codemirror_mode": {
    "name": "ipython",
    "version": 3
   },
   "file_extension": ".py",
   "mimetype": "text/x-python",
   "name": "python",
   "nbconvert_exporter": "python",
   "pygments_lexer": "ipython3",
   "version": "3.7.3"
  }
 },
 "nbformat": 4,
 "nbformat_minor": 2
}
